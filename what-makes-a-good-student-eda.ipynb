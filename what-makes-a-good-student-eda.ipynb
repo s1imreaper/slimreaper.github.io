{
 "cells": [
  {
   "cell_type": "markdown",
   "id": "baab32e7",
   "metadata": {
    "papermill": {
     "duration": 0.028485,
     "end_time": "2023-01-19T12:16:43.634002",
     "exception": false,
     "start_time": "2023-01-19T12:16:43.605517",
     "status": "completed"
    },
    "tags": []
   },
   "source": [
    "# Does Heavy Alcohol Usage Affect Academics? : EDA and Prediction \n",
    "Data from --> https://www.kaggle.com/datasets/uciml/student-alcohol-consumption\n",
    "\n"
   ]
  },
  {
   "cell_type": "markdown",
   "id": "c801461b",
   "metadata": {
    "papermill": {
     "duration": 0.018683,
     "end_time": "2023-01-19T12:16:43.671734",
     "exception": false,
     "start_time": "2023-01-19T12:16:43.653051",
     "status": "completed"
    },
    "tags": []
   },
   "source": [
    "# INTRODUCTION:\n",
    "\n",
    "\n",
    "Hi, my name is Tejas and I am a student studying Data Science. This notebook serves as both practice and a demonstration for my skills. Please give advice and constructive criticism on how to improve. Thank you! The data set we will be using for this NB is \"Student Alcohol Consumption\" by UC Irvine Machine Learning. This dataset features a variety of interesting features that are supposed to be used to predict student's final exam scores.\n",
    "\n",
    "Anyway, let's get started. Firstly, this dataset comes with two separate datasets. One is the student's math scores, and the other is a portuguese scores dataset, however the variables are the exact same. I will be almost entirely focused on the math dataset. \n",
    "Here are some of the variables that are covered in this dataset: \n",
    "\n",
    "- school - student's school (binary: 'GP' - Gabriel Pereira or 'MS' - Mousinho da Silveira)\\\n",
    "- sex - student's sex (binary: 'F' - female or 'M' - male)\\\n",
    "- age - student's age (numeric: from 15 to 22)\\\n",
    "- address - student's home address type (binary: 'U' - urban or 'R' - rural)\\\n",
    "- famsize - family size (binary: 'LE3' - less or equal to 3 or 'GT3' - greater than 3)\\\n",
    "- Pstatus - parent's cohabitation status (binary: 'T' - living together or 'A' - apart)\\\n",
    "- Fedu - father's education (numeric: 0 - none, 1 - primary education (4th grade), 2 – 5th to 9th grade, 3 – secondary education or 4 – higher education)\\\n",
    "- Mjob - mother's job (nominal: 'teacher', 'health' care related, civil 'services' (e.g. administrative or police), 'at_home' or 'other')\n",
    "\n",
    "Additionally, here are some of the more interesting attributes included in the study: \n",
    "\n",
    "- romantic - with a romantic relationship (binary: yes or no)\\\n",
    "- Dalc - workday alcohol consumption (numeric: from 1 - very low to 5 - very high)\\\n",
    "- famrel - quality of family relationships (numeric: from 1 - very bad to 5 - excellent) \n",
    "\n",
    "You can read about the rest of the variables here: https://www.kaggle.com/datasets/uciml/student-alcohol-consumption \n",
    "\n",
    "Our task is to do some basic EDA (Exploratory Data Analysis) with the data and maybe graph some visualizations, so we can see what the data is saying. And then, our second task is to try and make some predictions using the data and create models so that we can take things away from the data and apply them.\n"
   ]
  },
  {
   "cell_type": "code",
   "execution_count": 1,
   "id": "745d5815",
   "metadata": {
    "_cell_guid": "b1076dfc-b9ad-4769-8c92-a6c4dae69d19",
    "_kg_hide-input": true,
    "_kg_hide-output": true,
    "_uuid": "8f2839f25d086af736a60e9eeb907d3b93b6e0e5",
    "execution": {
     "iopub.execute_input": "2023-01-19T12:16:43.712850Z",
     "iopub.status.busy": "2023-01-19T12:16:43.711790Z",
     "iopub.status.idle": "2023-01-19T12:16:44.916256Z",
     "shell.execute_reply": "2023-01-19T12:16:44.914977Z"
    },
    "papermill": {
     "duration": 1.228606,
     "end_time": "2023-01-19T12:16:44.919378",
     "exception": false,
     "start_time": "2023-01-19T12:16:43.690772",
     "status": "completed"
    },
    "tags": []
   },
   "outputs": [
    {
     "name": "stdout",
     "output_type": "stream",
     "text": [
      "/kaggle/input/student-alcohol-consumption/student-mat.csv\n",
      "/kaggle/input/student-alcohol-consumption/student-merge.R\n",
      "/kaggle/input/student-alcohol-consumption/student-por.csv\n"
     ]
    }
   ],
   "source": [
    "# This Python 3 environment comes with many helpful analytics libraries installed\n",
    "# It is defined by the kaggle/python Docker image: https://github.com/kaggle/docker-python\n",
    "# For example, here's several helpful packages to load\n",
    "\n",
    "import numpy as np # linear algebra\n",
    "import pandas as pd # data processing, CSV file I/O (e.g. pd.read_csv)\n",
    "import seaborn as sns\n",
    "import matplotlib.pyplot as plt\n",
    "\n",
    "# Input data files are available in the read-only \"../input/\" directory\n",
    "# For example, running this (by clicking run or pressing Shift+Enter) will list all files under the input directory\n",
    "\n",
    "import os\n",
    "for dirname, _, filenames in os.walk('/kaggle/input'):\n",
    "    for filename in filenames:\n",
    "        print(os.path.join(dirname, filename))\n",
    "\n",
    "def warn(*args, **kwargs):\n",
    "    pass\n",
    "import warnings\n",
    "warnings.warn = warn\n",
    "# You can write up to 20GB to the current directory (/kaggle/working/) that gets preserved as output when you create a version using \"Save & Run All\" \n",
    "# You can also write temporary files to /kaggle/temp/, but they won't be saved outside of the current session"
   ]
  },
  {
   "cell_type": "markdown",
   "id": "d9a1062e",
   "metadata": {
    "papermill": {
     "duration": 0.018838,
     "end_time": "2023-01-19T12:16:44.957897",
     "exception": false,
     "start_time": "2023-01-19T12:16:44.939059",
     "status": "completed"
    },
    "tags": []
   },
   "source": [
    "# Here we begin our analysis. \n",
    "**This analysis has two parts:**\\\n",
    "    Part 1 --> Exploratory Data Analysis (what the data says)\\\n",
    "    Part 2 --> Prediction and Application (what the data does...)"
   ]
  },
  {
   "cell_type": "markdown",
   "id": "5267a3c2",
   "metadata": {
    "papermill": {
     "duration": 0.020686,
     "end_time": "2023-01-19T12:16:44.997442",
     "exception": false,
     "start_time": "2023-01-19T12:16:44.976756",
     "status": "completed"
    },
    "tags": []
   },
   "source": [
    "# *PART 1: EDA*\n",
    "EDA, or exploratory data analysis, is the portion of this notebook where we try to interpret what this data is saying. EDA is also an important part of the process even though there is no machine learning happening. During EDA, we: \n",
    "* Clean the data\n",
    "* Visualize the data\n",
    "* Interpret the data\n",
    "* and more... \n",
    "\n",
    "\\\n",
    "\\\n",
    "I also believe that it is important as data scientists to have questions in hand before we even begin studying the data. Here are some potential questions we can ask: \n",
    "\n",
    "* What makes a good student? \n",
    "* How does alcohol affect academic success? \n",
    "* Does having separated parents affect academic performance? \n",
    "* Are students invovled in extracurriculars students drinking less? \n",
    "* Does having a girlfriend make you a better student?  \n",
    "\n",
    "\n",
    "  \n",
    "  \n",
    "\n",
    "\n",
    "\n"
   ]
  },
  {
   "cell_type": "code",
   "execution_count": 2,
   "id": "0c3e51dd",
   "metadata": {
    "execution": {
     "iopub.execute_input": "2023-01-19T12:16:45.039915Z",
     "iopub.status.busy": "2023-01-19T12:16:45.038881Z",
     "iopub.status.idle": "2023-01-19T12:16:45.093407Z",
     "shell.execute_reply": "2023-01-19T12:16:45.092420Z"
    },
    "papermill": {
     "duration": 0.078416,
     "end_time": "2023-01-19T12:16:45.095797",
     "exception": false,
     "start_time": "2023-01-19T12:16:45.017381",
     "status": "completed"
    },
    "tags": []
   },
   "outputs": [
    {
     "data": {
      "text/html": [
       "<div>\n",
       "<style scoped>\n",
       "    .dataframe tbody tr th:only-of-type {\n",
       "        vertical-align: middle;\n",
       "    }\n",
       "\n",
       "    .dataframe tbody tr th {\n",
       "        vertical-align: top;\n",
       "    }\n",
       "\n",
       "    .dataframe thead th {\n",
       "        text-align: right;\n",
       "    }\n",
       "</style>\n",
       "<table border=\"1\" class=\"dataframe\">\n",
       "  <thead>\n",
       "    <tr style=\"text-align: right;\">\n",
       "      <th></th>\n",
       "      <th>school</th>\n",
       "      <th>sex</th>\n",
       "      <th>age</th>\n",
       "      <th>address</th>\n",
       "      <th>famsize</th>\n",
       "      <th>Pstatus</th>\n",
       "      <th>Medu</th>\n",
       "      <th>Fedu</th>\n",
       "      <th>Mjob</th>\n",
       "      <th>Fjob</th>\n",
       "      <th>...</th>\n",
       "      <th>famrel</th>\n",
       "      <th>freetime</th>\n",
       "      <th>goout</th>\n",
       "      <th>Dalc</th>\n",
       "      <th>Walc</th>\n",
       "      <th>health</th>\n",
       "      <th>absences</th>\n",
       "      <th>G1</th>\n",
       "      <th>G2</th>\n",
       "      <th>G3</th>\n",
       "    </tr>\n",
       "  </thead>\n",
       "  <tbody>\n",
       "    <tr>\n",
       "      <th>0</th>\n",
       "      <td>GP</td>\n",
       "      <td>F</td>\n",
       "      <td>18</td>\n",
       "      <td>U</td>\n",
       "      <td>GT3</td>\n",
       "      <td>A</td>\n",
       "      <td>4</td>\n",
       "      <td>4</td>\n",
       "      <td>at_home</td>\n",
       "      <td>teacher</td>\n",
       "      <td>...</td>\n",
       "      <td>4</td>\n",
       "      <td>3</td>\n",
       "      <td>4</td>\n",
       "      <td>1</td>\n",
       "      <td>1</td>\n",
       "      <td>3</td>\n",
       "      <td>6</td>\n",
       "      <td>5</td>\n",
       "      <td>6</td>\n",
       "      <td>6</td>\n",
       "    </tr>\n",
       "    <tr>\n",
       "      <th>1</th>\n",
       "      <td>GP</td>\n",
       "      <td>F</td>\n",
       "      <td>17</td>\n",
       "      <td>U</td>\n",
       "      <td>GT3</td>\n",
       "      <td>T</td>\n",
       "      <td>1</td>\n",
       "      <td>1</td>\n",
       "      <td>at_home</td>\n",
       "      <td>other</td>\n",
       "      <td>...</td>\n",
       "      <td>5</td>\n",
       "      <td>3</td>\n",
       "      <td>3</td>\n",
       "      <td>1</td>\n",
       "      <td>1</td>\n",
       "      <td>3</td>\n",
       "      <td>4</td>\n",
       "      <td>5</td>\n",
       "      <td>5</td>\n",
       "      <td>6</td>\n",
       "    </tr>\n",
       "    <tr>\n",
       "      <th>2</th>\n",
       "      <td>GP</td>\n",
       "      <td>F</td>\n",
       "      <td>15</td>\n",
       "      <td>U</td>\n",
       "      <td>LE3</td>\n",
       "      <td>T</td>\n",
       "      <td>1</td>\n",
       "      <td>1</td>\n",
       "      <td>at_home</td>\n",
       "      <td>other</td>\n",
       "      <td>...</td>\n",
       "      <td>4</td>\n",
       "      <td>3</td>\n",
       "      <td>2</td>\n",
       "      <td>2</td>\n",
       "      <td>3</td>\n",
       "      <td>3</td>\n",
       "      <td>10</td>\n",
       "      <td>7</td>\n",
       "      <td>8</td>\n",
       "      <td>10</td>\n",
       "    </tr>\n",
       "    <tr>\n",
       "      <th>3</th>\n",
       "      <td>GP</td>\n",
       "      <td>F</td>\n",
       "      <td>15</td>\n",
       "      <td>U</td>\n",
       "      <td>GT3</td>\n",
       "      <td>T</td>\n",
       "      <td>4</td>\n",
       "      <td>2</td>\n",
       "      <td>health</td>\n",
       "      <td>services</td>\n",
       "      <td>...</td>\n",
       "      <td>3</td>\n",
       "      <td>2</td>\n",
       "      <td>2</td>\n",
       "      <td>1</td>\n",
       "      <td>1</td>\n",
       "      <td>5</td>\n",
       "      <td>2</td>\n",
       "      <td>15</td>\n",
       "      <td>14</td>\n",
       "      <td>15</td>\n",
       "    </tr>\n",
       "    <tr>\n",
       "      <th>4</th>\n",
       "      <td>GP</td>\n",
       "      <td>F</td>\n",
       "      <td>16</td>\n",
       "      <td>U</td>\n",
       "      <td>GT3</td>\n",
       "      <td>T</td>\n",
       "      <td>3</td>\n",
       "      <td>3</td>\n",
       "      <td>other</td>\n",
       "      <td>other</td>\n",
       "      <td>...</td>\n",
       "      <td>4</td>\n",
       "      <td>3</td>\n",
       "      <td>2</td>\n",
       "      <td>1</td>\n",
       "      <td>2</td>\n",
       "      <td>5</td>\n",
       "      <td>4</td>\n",
       "      <td>6</td>\n",
       "      <td>10</td>\n",
       "      <td>10</td>\n",
       "    </tr>\n",
       "  </tbody>\n",
       "</table>\n",
       "<p>5 rows × 33 columns</p>\n",
       "</div>"
      ],
      "text/plain": [
       "  school sex  age address famsize Pstatus  Medu  Fedu     Mjob      Fjob  ...  \\\n",
       "0     GP   F   18       U     GT3       A     4     4  at_home   teacher  ...   \n",
       "1     GP   F   17       U     GT3       T     1     1  at_home     other  ...   \n",
       "2     GP   F   15       U     LE3       T     1     1  at_home     other  ...   \n",
       "3     GP   F   15       U     GT3       T     4     2   health  services  ...   \n",
       "4     GP   F   16       U     GT3       T     3     3    other     other  ...   \n",
       "\n",
       "  famrel freetime  goout  Dalc  Walc health absences  G1  G2  G3  \n",
       "0      4        3      4     1     1      3        6   5   6   6  \n",
       "1      5        3      3     1     1      3        4   5   5   6  \n",
       "2      4        3      2     2     3      3       10   7   8  10  \n",
       "3      3        2      2     1     1      5        2  15  14  15  \n",
       "4      4        3      2     1     2      5        4   6  10  10  \n",
       "\n",
       "[5 rows x 33 columns]"
      ]
     },
     "execution_count": 2,
     "metadata": {},
     "output_type": "execute_result"
    }
   ],
   "source": [
    "#first 5 rows of DataFrame\n",
    "df = pd.read_csv('/kaggle/input/student-alcohol-consumption/student-mat.csv')\n",
    "df.head()"
   ]
  },
  {
   "cell_type": "code",
   "execution_count": 3,
   "id": "4e58a695",
   "metadata": {
    "execution": {
     "iopub.execute_input": "2023-01-19T12:16:45.138134Z",
     "iopub.status.busy": "2023-01-19T12:16:45.137404Z",
     "iopub.status.idle": "2023-01-19T12:16:45.159278Z",
     "shell.execute_reply": "2023-01-19T12:16:45.158028Z"
    },
    "papermill": {
     "duration": 0.04557,
     "end_time": "2023-01-19T12:16:45.161735",
     "exception": false,
     "start_time": "2023-01-19T12:16:45.116165",
     "status": "completed"
    },
    "tags": []
   },
   "outputs": [
    {
     "data": {
      "text/html": [
       "<div>\n",
       "<style scoped>\n",
       "    .dataframe tbody tr th:only-of-type {\n",
       "        vertical-align: middle;\n",
       "    }\n",
       "\n",
       "    .dataframe tbody tr th {\n",
       "        vertical-align: top;\n",
       "    }\n",
       "\n",
       "    .dataframe thead th {\n",
       "        text-align: right;\n",
       "    }\n",
       "</style>\n",
       "<table border=\"1\" class=\"dataframe\">\n",
       "  <thead>\n",
       "    <tr style=\"text-align: right;\">\n",
       "      <th></th>\n",
       "      <th>school</th>\n",
       "      <th>sex</th>\n",
       "      <th>age</th>\n",
       "      <th>address</th>\n",
       "      <th>famsize</th>\n",
       "      <th>Pstatus</th>\n",
       "      <th>Medu</th>\n",
       "      <th>Fedu</th>\n",
       "      <th>Mjob</th>\n",
       "      <th>Fjob</th>\n",
       "      <th>...</th>\n",
       "      <th>famrel</th>\n",
       "      <th>freetime</th>\n",
       "      <th>goout</th>\n",
       "      <th>Dalc</th>\n",
       "      <th>Walc</th>\n",
       "      <th>health</th>\n",
       "      <th>absences</th>\n",
       "      <th>G1</th>\n",
       "      <th>G2</th>\n",
       "      <th>G3</th>\n",
       "    </tr>\n",
       "  </thead>\n",
       "  <tbody>\n",
       "    <tr>\n",
       "      <th>390</th>\n",
       "      <td>MS</td>\n",
       "      <td>M</td>\n",
       "      <td>20</td>\n",
       "      <td>U</td>\n",
       "      <td>LE3</td>\n",
       "      <td>A</td>\n",
       "      <td>2</td>\n",
       "      <td>2</td>\n",
       "      <td>services</td>\n",
       "      <td>services</td>\n",
       "      <td>...</td>\n",
       "      <td>5</td>\n",
       "      <td>5</td>\n",
       "      <td>4</td>\n",
       "      <td>4</td>\n",
       "      <td>5</td>\n",
       "      <td>4</td>\n",
       "      <td>11</td>\n",
       "      <td>9</td>\n",
       "      <td>9</td>\n",
       "      <td>9</td>\n",
       "    </tr>\n",
       "    <tr>\n",
       "      <th>391</th>\n",
       "      <td>MS</td>\n",
       "      <td>M</td>\n",
       "      <td>17</td>\n",
       "      <td>U</td>\n",
       "      <td>LE3</td>\n",
       "      <td>T</td>\n",
       "      <td>3</td>\n",
       "      <td>1</td>\n",
       "      <td>services</td>\n",
       "      <td>services</td>\n",
       "      <td>...</td>\n",
       "      <td>2</td>\n",
       "      <td>4</td>\n",
       "      <td>5</td>\n",
       "      <td>3</td>\n",
       "      <td>4</td>\n",
       "      <td>2</td>\n",
       "      <td>3</td>\n",
       "      <td>14</td>\n",
       "      <td>16</td>\n",
       "      <td>16</td>\n",
       "    </tr>\n",
       "    <tr>\n",
       "      <th>392</th>\n",
       "      <td>MS</td>\n",
       "      <td>M</td>\n",
       "      <td>21</td>\n",
       "      <td>R</td>\n",
       "      <td>GT3</td>\n",
       "      <td>T</td>\n",
       "      <td>1</td>\n",
       "      <td>1</td>\n",
       "      <td>other</td>\n",
       "      <td>other</td>\n",
       "      <td>...</td>\n",
       "      <td>5</td>\n",
       "      <td>5</td>\n",
       "      <td>3</td>\n",
       "      <td>3</td>\n",
       "      <td>3</td>\n",
       "      <td>3</td>\n",
       "      <td>3</td>\n",
       "      <td>10</td>\n",
       "      <td>8</td>\n",
       "      <td>7</td>\n",
       "    </tr>\n",
       "    <tr>\n",
       "      <th>393</th>\n",
       "      <td>MS</td>\n",
       "      <td>M</td>\n",
       "      <td>18</td>\n",
       "      <td>R</td>\n",
       "      <td>LE3</td>\n",
       "      <td>T</td>\n",
       "      <td>3</td>\n",
       "      <td>2</td>\n",
       "      <td>services</td>\n",
       "      <td>other</td>\n",
       "      <td>...</td>\n",
       "      <td>4</td>\n",
       "      <td>4</td>\n",
       "      <td>1</td>\n",
       "      <td>3</td>\n",
       "      <td>4</td>\n",
       "      <td>5</td>\n",
       "      <td>0</td>\n",
       "      <td>11</td>\n",
       "      <td>12</td>\n",
       "      <td>10</td>\n",
       "    </tr>\n",
       "    <tr>\n",
       "      <th>394</th>\n",
       "      <td>MS</td>\n",
       "      <td>M</td>\n",
       "      <td>19</td>\n",
       "      <td>U</td>\n",
       "      <td>LE3</td>\n",
       "      <td>T</td>\n",
       "      <td>1</td>\n",
       "      <td>1</td>\n",
       "      <td>other</td>\n",
       "      <td>at_home</td>\n",
       "      <td>...</td>\n",
       "      <td>3</td>\n",
       "      <td>2</td>\n",
       "      <td>3</td>\n",
       "      <td>3</td>\n",
       "      <td>3</td>\n",
       "      <td>5</td>\n",
       "      <td>5</td>\n",
       "      <td>8</td>\n",
       "      <td>9</td>\n",
       "      <td>9</td>\n",
       "    </tr>\n",
       "  </tbody>\n",
       "</table>\n",
       "<p>5 rows × 33 columns</p>\n",
       "</div>"
      ],
      "text/plain": [
       "    school sex  age address famsize Pstatus  Medu  Fedu      Mjob      Fjob  \\\n",
       "390     MS   M   20       U     LE3       A     2     2  services  services   \n",
       "391     MS   M   17       U     LE3       T     3     1  services  services   \n",
       "392     MS   M   21       R     GT3       T     1     1     other     other   \n",
       "393     MS   M   18       R     LE3       T     3     2  services     other   \n",
       "394     MS   M   19       U     LE3       T     1     1     other   at_home   \n",
       "\n",
       "     ... famrel freetime  goout  Dalc  Walc health absences  G1  G2  G3  \n",
       "390  ...      5        5      4     4     5      4       11   9   9   9  \n",
       "391  ...      2        4      5     3     4      2        3  14  16  16  \n",
       "392  ...      5        5      3     3     3      3        3  10   8   7  \n",
       "393  ...      4        4      1     3     4      5        0  11  12  10  \n",
       "394  ...      3        2      3     3     3      5        5   8   9   9  \n",
       "\n",
       "[5 rows x 33 columns]"
      ]
     },
     "execution_count": 3,
     "metadata": {},
     "output_type": "execute_result"
    }
   ],
   "source": [
    "#last 5 rows of DataFrame\n",
    "df.tail()"
   ]
  },
  {
   "cell_type": "code",
   "execution_count": 4,
   "id": "9935b926",
   "metadata": {
    "execution": {
     "iopub.execute_input": "2023-01-19T12:16:45.203055Z",
     "iopub.status.busy": "2023-01-19T12:16:45.202600Z",
     "iopub.status.idle": "2023-01-19T12:16:45.210566Z",
     "shell.execute_reply": "2023-01-19T12:16:45.208927Z"
    },
    "papermill": {
     "duration": 0.031427,
     "end_time": "2023-01-19T12:16:45.212924",
     "exception": false,
     "start_time": "2023-01-19T12:16:45.181497",
     "status": "completed"
    },
    "tags": []
   },
   "outputs": [
    {
     "data": {
      "text/plain": [
       "Index(['school', 'sex', 'age', 'address', 'famsize', 'Pstatus', 'Medu', 'Fedu',\n",
       "       'Mjob', 'Fjob', 'reason', 'guardian', 'traveltime', 'studytime',\n",
       "       'failures', 'schoolsup', 'famsup', 'paid', 'activities', 'nursery',\n",
       "       'higher', 'internet', 'romantic', 'famrel', 'freetime', 'goout', 'Dalc',\n",
       "       'Walc', 'health', 'absences', 'G1', 'G2', 'G3'],\n",
       "      dtype='object')"
      ]
     },
     "execution_count": 4,
     "metadata": {},
     "output_type": "execute_result"
    }
   ],
   "source": [
    "#columns in DataFrame\n",
    "df.columns"
   ]
  },
  {
   "cell_type": "code",
   "execution_count": 5,
   "id": "00fda605",
   "metadata": {
    "execution": {
     "iopub.execute_input": "2023-01-19T12:16:45.254549Z",
     "iopub.status.busy": "2023-01-19T12:16:45.254114Z",
     "iopub.status.idle": "2023-01-19T12:16:45.281485Z",
     "shell.execute_reply": "2023-01-19T12:16:45.279186Z"
    },
    "papermill": {
     "duration": 0.051033,
     "end_time": "2023-01-19T12:16:45.283944",
     "exception": false,
     "start_time": "2023-01-19T12:16:45.232911",
     "status": "completed"
    },
    "tags": []
   },
   "outputs": [
    {
     "name": "stdout",
     "output_type": "stream",
     "text": [
      "<class 'pandas.core.frame.DataFrame'>\n",
      "RangeIndex: 395 entries, 0 to 394\n",
      "Data columns (total 33 columns):\n",
      " #   Column      Non-Null Count  Dtype \n",
      "---  ------      --------------  ----- \n",
      " 0   school      395 non-null    object\n",
      " 1   sex         395 non-null    object\n",
      " 2   age         395 non-null    int64 \n",
      " 3   address     395 non-null    object\n",
      " 4   famsize     395 non-null    object\n",
      " 5   Pstatus     395 non-null    object\n",
      " 6   Medu        395 non-null    int64 \n",
      " 7   Fedu        395 non-null    int64 \n",
      " 8   Mjob        395 non-null    object\n",
      " 9   Fjob        395 non-null    object\n",
      " 10  reason      395 non-null    object\n",
      " 11  guardian    395 non-null    object\n",
      " 12  traveltime  395 non-null    int64 \n",
      " 13  studytime   395 non-null    int64 \n",
      " 14  failures    395 non-null    int64 \n",
      " 15  schoolsup   395 non-null    object\n",
      " 16  famsup      395 non-null    object\n",
      " 17  paid        395 non-null    object\n",
      " 18  activities  395 non-null    object\n",
      " 19  nursery     395 non-null    object\n",
      " 20  higher      395 non-null    object\n",
      " 21  internet    395 non-null    object\n",
      " 22  romantic    395 non-null    object\n",
      " 23  famrel      395 non-null    int64 \n",
      " 24  freetime    395 non-null    int64 \n",
      " 25  goout       395 non-null    int64 \n",
      " 26  Dalc        395 non-null    int64 \n",
      " 27  Walc        395 non-null    int64 \n",
      " 28  health      395 non-null    int64 \n",
      " 29  absences    395 non-null    int64 \n",
      " 30  G1          395 non-null    int64 \n",
      " 31  G2          395 non-null    int64 \n",
      " 32  G3          395 non-null    int64 \n",
      "dtypes: int64(16), object(17)\n",
      "memory usage: 102.0+ KB\n"
     ]
    }
   ],
   "source": [
    "#info about DataFrame\n",
    "df.info()"
   ]
  },
  {
   "cell_type": "code",
   "execution_count": 6,
   "id": "c233ca42",
   "metadata": {
    "execution": {
     "iopub.execute_input": "2023-01-19T12:16:45.325690Z",
     "iopub.status.busy": "2023-01-19T12:16:45.325304Z",
     "iopub.status.idle": "2023-01-19T12:16:45.333363Z",
     "shell.execute_reply": "2023-01-19T12:16:45.332217Z"
    },
    "papermill": {
     "duration": 0.031592,
     "end_time": "2023-01-19T12:16:45.335616",
     "exception": false,
     "start_time": "2023-01-19T12:16:45.304024",
     "status": "completed"
    },
    "tags": []
   },
   "outputs": [
    {
     "data": {
      "text/plain": [
       "F    208\n",
       "M    187\n",
       "Name: sex, dtype: int64"
      ]
     },
     "execution_count": 6,
     "metadata": {},
     "output_type": "execute_result"
    }
   ],
   "source": [
    "#how many women and men are in our study...\n",
    "df.sex.value_counts()"
   ]
  },
  {
   "cell_type": "code",
   "execution_count": 7,
   "id": "d00266ba",
   "metadata": {
    "execution": {
     "iopub.execute_input": "2023-01-19T12:16:45.377256Z",
     "iopub.status.busy": "2023-01-19T12:16:45.376831Z",
     "iopub.status.idle": "2023-01-19T12:16:45.673606Z",
     "shell.execute_reply": "2023-01-19T12:16:45.672370Z"
    },
    "papermill": {
     "duration": 0.320644,
     "end_time": "2023-01-19T12:16:45.676288",
     "exception": false,
     "start_time": "2023-01-19T12:16:45.355644",
     "status": "completed"
    },
    "tags": []
   },
   "outputs": [
    {
     "data": {
      "text/plain": [
       "<AxesSubplot:title={'center':'Ages of Study (students)'}>"
      ]
     },
     "execution_count": 7,
     "metadata": {},
     "output_type": "execute_result"
    },
    {
     "data": {
      "image/png": "[encoded data removed]",
      "text/plain": [
       "<Figure size 432x288 with 1 Axes>"
      ]
     },
     "metadata": {
      "needs_background": "light"
     },
     "output_type": "display_data"
    }
   ],
   "source": [
    "#age distribution of our students...\n",
    "df['age'].value_counts(sort = True).plot(kind = 'bar', color = 'pink', title = 'Ages of Study (students)')"
   ]
  },
  {
   "cell_type": "code",
   "execution_count": 8,
   "id": "39c24943",
   "metadata": {
    "execution": {
     "iopub.execute_input": "2023-01-19T12:16:45.720481Z",
     "iopub.status.busy": "2023-01-19T12:16:45.720063Z",
     "iopub.status.idle": "2023-01-19T12:16:45.937280Z",
     "shell.execute_reply": "2023-01-19T12:16:45.936125Z"
    },
    "papermill": {
     "duration": 0.241678,
     "end_time": "2023-01-19T12:16:45.939761",
     "exception": false,
     "start_time": "2023-01-19T12:16:45.698083",
     "status": "completed"
    },
    "tags": []
   },
   "outputs": [
    {
     "data": {
      "text/plain": [
       "<AxesSubplot:title={'center':'Students Studytime (Rated 1-4)'}>"
      ]
     },
     "execution_count": 8,
     "metadata": {},
     "output_type": "execute_result"
    },
    {
     "data": {
      "image/png": "[encoded data removed]",
      "text/plain": [
       "<Figure size 432x288 with 1 Axes>"
      ]
     },
     "metadata": {
      "needs_background": "light"
     },
     "output_type": "display_data"
    }
   ],
   "source": [
    "#studytime distribution of our students...\n",
    "df['studytime'].value_counts().plot(kind = 'bar', title = 'Students Studytime (Rated 1-4)', color = 'lightgreen')"
   ]
  },
  {
   "cell_type": "code",
   "execution_count": 9,
   "id": "fc1435f8",
   "metadata": {
    "execution": {
     "iopub.execute_input": "2023-01-19T12:16:45.983791Z",
     "iopub.status.busy": "2023-01-19T12:16:45.983019Z",
     "iopub.status.idle": "2023-01-19T12:16:46.296184Z",
     "shell.execute_reply": "2023-01-19T12:16:46.294923Z"
    },
    "papermill": {
     "duration": 0.338404,
     "end_time": "2023-01-19T12:16:46.299020",
     "exception": false,
     "start_time": "2023-01-19T12:16:45.960616",
     "status": "completed"
    },
    "tags": []
   },
   "outputs": [
    {
     "data": {
      "text/plain": [
       "Text(0.5, 0, 'Score / 20')"
      ]
     },
     "execution_count": 9,
     "metadata": {},
     "output_type": "execute_result"
    },
    {
     "data": {
      "image/png": "[encoded data removed]",
      "text/plain": [
       "<Figure size 432x288 with 1 Axes>"
      ]
     },
     "metadata": {
      "needs_background": "light"
     },
     "output_type": "display_data"
    }
   ],
   "source": [
    "fundf = pd.read_csv('/kaggle/input/student-alcohol-consumption/student-mat.csv')\n",
    "df = fundf\n",
    "#score distributions of the three exams to get us started\n",
    "\n",
    "#G1\n",
    "sns.histplot(data = fundf, x = fundf['G1'], kde = True, color = 'Green')\n",
    "sns.set(rc={'figure.figsize':(14.7,8.27)})\n",
    "plt.title(\"G1 Scores\")\n",
    "plt.ylabel(\"# of Students\")\n",
    "plt.xlabel(\"Score / 20\")"
   ]
  },
  {
   "cell_type": "code",
   "execution_count": 10,
   "id": "fae6c1b1",
   "metadata": {
    "execution": {
     "iopub.execute_input": "2023-01-19T12:16:46.343937Z",
     "iopub.status.busy": "2023-01-19T12:16:46.343528Z",
     "iopub.status.idle": "2023-01-19T12:16:46.739642Z",
     "shell.execute_reply": "2023-01-19T12:16:46.738411Z"
    },
    "papermill": {
     "duration": 0.421557,
     "end_time": "2023-01-19T12:16:46.742065",
     "exception": false,
     "start_time": "2023-01-19T12:16:46.320508",
     "status": "completed"
    },
    "tags": []
   },
   "outputs": [
    {
     "data": {
      "text/plain": [
       "Text(0.5, 0, 'Score / 20')"
      ]
     },
     "execution_count": 10,
     "metadata": {},
     "output_type": "execute_result"
    },
    {
     "data": {
      "image/png": "[encoded data removed]",
      "text/plain": [
       "<Figure size 1058.4x595.44 with 1 Axes>"
      ]
     },
     "metadata": {},
     "output_type": "display_data"
    }
   ],
   "source": [
    "#G2\n",
    "sns.histplot(data = fundf, x = df['G2'], kde = True, color = 'red')\n",
    "sns.set(rc={'figure.figsize':(15,8.27)})\n",
    "plt.title(\"G2 Scores\")\n",
    "plt.ylabel(\"# of Students\")\n",
    "plt.xlabel(\"Score / 20\")"
   ]
  },
  {
   "cell_type": "code",
   "execution_count": 11,
   "id": "9f75fc0d",
   "metadata": {
    "execution": {
     "iopub.execute_input": "2023-01-19T12:16:46.789244Z",
     "iopub.status.busy": "2023-01-19T12:16:46.788528Z",
     "iopub.status.idle": "2023-01-19T12:16:47.182240Z",
     "shell.execute_reply": "2023-01-19T12:16:47.181113Z"
    },
    "papermill": {
     "duration": 0.420007,
     "end_time": "2023-01-19T12:16:47.185160",
     "exception": false,
     "start_time": "2023-01-19T12:16:46.765153",
     "status": "completed"
    },
    "tags": []
   },
   "outputs": [
    {
     "data": {
      "text/plain": [
       "Text(0.5, 0, 'Score / 20')"
      ]
     },
     "execution_count": 11,
     "metadata": {},
     "output_type": "execute_result"
    },
    {
     "data": {
      "image/png": "[encoded data removed]",
      "text/plain": [
       "<Figure size 1080x595.44 with 1 Axes>"
      ]
     },
     "metadata": {},
     "output_type": "display_data"
    }
   ],
   "source": [
    "#G3 \n",
    "sns.histplot(data = fundf, x = df['G3'], kde = True)\n",
    "sns.set(rc={'figure.figsize':(19.7,8.27)})\n",
    "plt.title(\"G3 Scores\")\n",
    "plt.ylabel(\"# of Students\")\n",
    "plt.xlabel(\"Score / 20\")"
   ]
  },
  {
   "cell_type": "code",
   "execution_count": 12,
   "id": "a6bfbf8f",
   "metadata": {
    "execution": {
     "iopub.execute_input": "2023-01-19T12:16:47.234181Z",
     "iopub.status.busy": "2023-01-19T12:16:47.233479Z",
     "iopub.status.idle": "2023-01-19T12:16:47.835465Z",
     "shell.execute_reply": "2023-01-19T12:16:47.834264Z"
    },
    "papermill": {
     "duration": 0.62873,
     "end_time": "2023-01-19T12:16:47.837899",
     "exception": false,
     "start_time": "2023-01-19T12:16:47.209169",
     "status": "completed"
    },
    "tags": []
   },
   "outputs": [
    {
     "data": {
      "image/png": "[encoded data removed]",
      "text/plain": [
       "<Figure size 1418.4x595.44 with 1 Axes>"
      ]
     },
     "metadata": {},
     "output_type": "display_data"
    }
   ],
   "source": [
    "#G1 scores separated by Dalc\n",
    "sns.histplot(data = fundf, x = df['G1'], kde = True, hue = df['Dalc'].sort_values(ascending = True))\n",
    "sns.set(rc={'figure.figsize':(19.7,8.27)})"
   ]
  },
  {
   "cell_type": "code",
   "execution_count": 13,
   "id": "3a6d020d",
   "metadata": {
    "execution": {
     "iopub.execute_input": "2023-01-19T12:16:47.888985Z",
     "iopub.status.busy": "2023-01-19T12:16:47.888528Z",
     "iopub.status.idle": "2023-01-19T12:16:47.921173Z",
     "shell.execute_reply": "2023-01-19T12:16:47.920023Z"
    },
    "papermill": {
     "duration": 0.062134,
     "end_time": "2023-01-19T12:16:47.924071",
     "exception": false,
     "start_time": "2023-01-19T12:16:47.861937",
     "status": "completed"
    },
    "tags": []
   },
   "outputs": [
    {
     "data": {
      "text/html": [
       "<div>\n",
       "<style scoped>\n",
       "    .dataframe tbody tr th:only-of-type {\n",
       "        vertical-align: middle;\n",
       "    }\n",
       "\n",
       "    .dataframe tbody tr th {\n",
       "        vertical-align: top;\n",
       "    }\n",
       "\n",
       "    .dataframe thead th {\n",
       "        text-align: right;\n",
       "    }\n",
       "</style>\n",
       "<table border=\"1\" class=\"dataframe\">\n",
       "  <thead>\n",
       "    <tr style=\"text-align: right;\">\n",
       "      <th></th>\n",
       "      <th>school</th>\n",
       "      <th>sex</th>\n",
       "      <th>age</th>\n",
       "      <th>address</th>\n",
       "      <th>famsize</th>\n",
       "      <th>Pstatus</th>\n",
       "      <th>Medu</th>\n",
       "      <th>Fedu</th>\n",
       "      <th>Mjob</th>\n",
       "      <th>Fjob</th>\n",
       "      <th>...</th>\n",
       "      <th>famrel</th>\n",
       "      <th>freetime</th>\n",
       "      <th>goout</th>\n",
       "      <th>Dalc</th>\n",
       "      <th>Walc</th>\n",
       "      <th>health</th>\n",
       "      <th>absences</th>\n",
       "      <th>G1</th>\n",
       "      <th>G2</th>\n",
       "      <th>G3</th>\n",
       "    </tr>\n",
       "  </thead>\n",
       "  <tbody>\n",
       "    <tr>\n",
       "      <th>0</th>\n",
       "      <td>GP</td>\n",
       "      <td>F</td>\n",
       "      <td>18</td>\n",
       "      <td>U</td>\n",
       "      <td>GT3</td>\n",
       "      <td>A</td>\n",
       "      <td>4</td>\n",
       "      <td>4</td>\n",
       "      <td>at_home</td>\n",
       "      <td>teacher</td>\n",
       "      <td>...</td>\n",
       "      <td>4</td>\n",
       "      <td>3</td>\n",
       "      <td>4</td>\n",
       "      <td>1</td>\n",
       "      <td>1</td>\n",
       "      <td>3</td>\n",
       "      <td>6</td>\n",
       "      <td>5</td>\n",
       "      <td>6</td>\n",
       "      <td>6</td>\n",
       "    </tr>\n",
       "    <tr>\n",
       "      <th>1</th>\n",
       "      <td>GP</td>\n",
       "      <td>F</td>\n",
       "      <td>17</td>\n",
       "      <td>U</td>\n",
       "      <td>GT3</td>\n",
       "      <td>T</td>\n",
       "      <td>1</td>\n",
       "      <td>1</td>\n",
       "      <td>at_home</td>\n",
       "      <td>other</td>\n",
       "      <td>...</td>\n",
       "      <td>5</td>\n",
       "      <td>3</td>\n",
       "      <td>3</td>\n",
       "      <td>1</td>\n",
       "      <td>1</td>\n",
       "      <td>3</td>\n",
       "      <td>4</td>\n",
       "      <td>5</td>\n",
       "      <td>5</td>\n",
       "      <td>6</td>\n",
       "    </tr>\n",
       "    <tr>\n",
       "      <th>2</th>\n",
       "      <td>GP</td>\n",
       "      <td>F</td>\n",
       "      <td>15</td>\n",
       "      <td>U</td>\n",
       "      <td>LE3</td>\n",
       "      <td>T</td>\n",
       "      <td>1</td>\n",
       "      <td>1</td>\n",
       "      <td>at_home</td>\n",
       "      <td>other</td>\n",
       "      <td>...</td>\n",
       "      <td>4</td>\n",
       "      <td>3</td>\n",
       "      <td>2</td>\n",
       "      <td>2</td>\n",
       "      <td>3</td>\n",
       "      <td>3</td>\n",
       "      <td>10</td>\n",
       "      <td>7</td>\n",
       "      <td>8</td>\n",
       "      <td>10</td>\n",
       "    </tr>\n",
       "    <tr>\n",
       "      <th>3</th>\n",
       "      <td>GP</td>\n",
       "      <td>F</td>\n",
       "      <td>15</td>\n",
       "      <td>U</td>\n",
       "      <td>GT3</td>\n",
       "      <td>T</td>\n",
       "      <td>4</td>\n",
       "      <td>2</td>\n",
       "      <td>health</td>\n",
       "      <td>services</td>\n",
       "      <td>...</td>\n",
       "      <td>3</td>\n",
       "      <td>2</td>\n",
       "      <td>2</td>\n",
       "      <td>1</td>\n",
       "      <td>1</td>\n",
       "      <td>5</td>\n",
       "      <td>2</td>\n",
       "      <td>15</td>\n",
       "      <td>14</td>\n",
       "      <td>15</td>\n",
       "    </tr>\n",
       "    <tr>\n",
       "      <th>4</th>\n",
       "      <td>GP</td>\n",
       "      <td>F</td>\n",
       "      <td>16</td>\n",
       "      <td>U</td>\n",
       "      <td>GT3</td>\n",
       "      <td>T</td>\n",
       "      <td>3</td>\n",
       "      <td>3</td>\n",
       "      <td>other</td>\n",
       "      <td>other</td>\n",
       "      <td>...</td>\n",
       "      <td>4</td>\n",
       "      <td>3</td>\n",
       "      <td>2</td>\n",
       "      <td>1</td>\n",
       "      <td>2</td>\n",
       "      <td>5</td>\n",
       "      <td>4</td>\n",
       "      <td>6</td>\n",
       "      <td>10</td>\n",
       "      <td>10</td>\n",
       "    </tr>\n",
       "    <tr>\n",
       "      <th>...</th>\n",
       "      <td>...</td>\n",
       "      <td>...</td>\n",
       "      <td>...</td>\n",
       "      <td>...</td>\n",
       "      <td>...</td>\n",
       "      <td>...</td>\n",
       "      <td>...</td>\n",
       "      <td>...</td>\n",
       "      <td>...</td>\n",
       "      <td>...</td>\n",
       "      <td>...</td>\n",
       "      <td>...</td>\n",
       "      <td>...</td>\n",
       "      <td>...</td>\n",
       "      <td>...</td>\n",
       "      <td>...</td>\n",
       "      <td>...</td>\n",
       "      <td>...</td>\n",
       "      <td>...</td>\n",
       "      <td>...</td>\n",
       "      <td>...</td>\n",
       "    </tr>\n",
       "    <tr>\n",
       "      <th>390</th>\n",
       "      <td>MS</td>\n",
       "      <td>M</td>\n",
       "      <td>20</td>\n",
       "      <td>U</td>\n",
       "      <td>LE3</td>\n",
       "      <td>A</td>\n",
       "      <td>2</td>\n",
       "      <td>2</td>\n",
       "      <td>services</td>\n",
       "      <td>services</td>\n",
       "      <td>...</td>\n",
       "      <td>5</td>\n",
       "      <td>5</td>\n",
       "      <td>4</td>\n",
       "      <td>4</td>\n",
       "      <td>5</td>\n",
       "      <td>4</td>\n",
       "      <td>11</td>\n",
       "      <td>9</td>\n",
       "      <td>9</td>\n",
       "      <td>9</td>\n",
       "    </tr>\n",
       "    <tr>\n",
       "      <th>391</th>\n",
       "      <td>MS</td>\n",
       "      <td>M</td>\n",
       "      <td>17</td>\n",
       "      <td>U</td>\n",
       "      <td>LE3</td>\n",
       "      <td>T</td>\n",
       "      <td>3</td>\n",
       "      <td>1</td>\n",
       "      <td>services</td>\n",
       "      <td>services</td>\n",
       "      <td>...</td>\n",
       "      <td>2</td>\n",
       "      <td>4</td>\n",
       "      <td>5</td>\n",
       "      <td>3</td>\n",
       "      <td>4</td>\n",
       "      <td>2</td>\n",
       "      <td>3</td>\n",
       "      <td>14</td>\n",
       "      <td>16</td>\n",
       "      <td>16</td>\n",
       "    </tr>\n",
       "    <tr>\n",
       "      <th>392</th>\n",
       "      <td>MS</td>\n",
       "      <td>M</td>\n",
       "      <td>21</td>\n",
       "      <td>R</td>\n",
       "      <td>GT3</td>\n",
       "      <td>T</td>\n",
       "      <td>1</td>\n",
       "      <td>1</td>\n",
       "      <td>other</td>\n",
       "      <td>other</td>\n",
       "      <td>...</td>\n",
       "      <td>5</td>\n",
       "      <td>5</td>\n",
       "      <td>3</td>\n",
       "      <td>3</td>\n",
       "      <td>3</td>\n",
       "      <td>3</td>\n",
       "      <td>3</td>\n",
       "      <td>10</td>\n",
       "      <td>8</td>\n",
       "      <td>7</td>\n",
       "    </tr>\n",
       "    <tr>\n",
       "      <th>393</th>\n",
       "      <td>MS</td>\n",
       "      <td>M</td>\n",
       "      <td>18</td>\n",
       "      <td>R</td>\n",
       "      <td>LE3</td>\n",
       "      <td>T</td>\n",
       "      <td>3</td>\n",
       "      <td>2</td>\n",
       "      <td>services</td>\n",
       "      <td>other</td>\n",
       "      <td>...</td>\n",
       "      <td>4</td>\n",
       "      <td>4</td>\n",
       "      <td>1</td>\n",
       "      <td>3</td>\n",
       "      <td>4</td>\n",
       "      <td>5</td>\n",
       "      <td>0</td>\n",
       "      <td>11</td>\n",
       "      <td>12</td>\n",
       "      <td>10</td>\n",
       "    </tr>\n",
       "    <tr>\n",
       "      <th>394</th>\n",
       "      <td>MS</td>\n",
       "      <td>M</td>\n",
       "      <td>19</td>\n",
       "      <td>U</td>\n",
       "      <td>LE3</td>\n",
       "      <td>T</td>\n",
       "      <td>1</td>\n",
       "      <td>1</td>\n",
       "      <td>other</td>\n",
       "      <td>at_home</td>\n",
       "      <td>...</td>\n",
       "      <td>3</td>\n",
       "      <td>2</td>\n",
       "      <td>3</td>\n",
       "      <td>3</td>\n",
       "      <td>3</td>\n",
       "      <td>5</td>\n",
       "      <td>5</td>\n",
       "      <td>8</td>\n",
       "      <td>9</td>\n",
       "      <td>9</td>\n",
       "    </tr>\n",
       "  </tbody>\n",
       "</table>\n",
       "<p>395 rows × 33 columns</p>\n",
       "</div>"
      ],
      "text/plain": [
       "    school sex  age address famsize Pstatus  Medu  Fedu      Mjob      Fjob  \\\n",
       "0       GP   F   18       U     GT3       A     4     4   at_home   teacher   \n",
       "1       GP   F   17       U     GT3       T     1     1   at_home     other   \n",
       "2       GP   F   15       U     LE3       T     1     1   at_home     other   \n",
       "3       GP   F   15       U     GT3       T     4     2    health  services   \n",
       "4       GP   F   16       U     GT3       T     3     3     other     other   \n",
       "..     ...  ..  ...     ...     ...     ...   ...   ...       ...       ...   \n",
       "390     MS   M   20       U     LE3       A     2     2  services  services   \n",
       "391     MS   M   17       U     LE3       T     3     1  services  services   \n",
       "392     MS   M   21       R     GT3       T     1     1     other     other   \n",
       "393     MS   M   18       R     LE3       T     3     2  services     other   \n",
       "394     MS   M   19       U     LE3       T     1     1     other   at_home   \n",
       "\n",
       "     ... famrel freetime  goout  Dalc  Walc health absences  G1  G2  G3  \n",
       "0    ...      4        3      4     1     1      3        6   5   6   6  \n",
       "1    ...      5        3      3     1     1      3        4   5   5   6  \n",
       "2    ...      4        3      2     2     3      3       10   7   8  10  \n",
       "3    ...      3        2      2     1     1      5        2  15  14  15  \n",
       "4    ...      4        3      2     1     2      5        4   6  10  10  \n",
       "..   ...    ...      ...    ...   ...   ...    ...      ...  ..  ..  ..  \n",
       "390  ...      5        5      4     4     5      4       11   9   9   9  \n",
       "391  ...      2        4      5     3     4      2        3  14  16  16  \n",
       "392  ...      5        5      3     3     3      3        3  10   8   7  \n",
       "393  ...      4        4      1     3     4      5        0  11  12  10  \n",
       "394  ...      3        2      3     3     3      5        5   8   9   9  \n",
       "\n",
       "[395 rows x 33 columns]"
      ]
     },
     "execution_count": 13,
     "metadata": {},
     "output_type": "execute_result"
    }
   ],
   "source": [
    "# our dataFrame\n",
    "df"
   ]
  },
  {
   "cell_type": "code",
   "execution_count": 14,
   "id": "55d75132",
   "metadata": {
    "execution": {
     "iopub.execute_input": "2023-01-19T12:16:47.975134Z",
     "iopub.status.busy": "2023-01-19T12:16:47.974637Z",
     "iopub.status.idle": "2023-01-19T12:16:48.360815Z",
     "shell.execute_reply": "2023-01-19T12:16:48.359526Z"
    },
    "papermill": {
     "duration": 0.415039,
     "end_time": "2023-01-19T12:16:48.363572",
     "exception": false,
     "start_time": "2023-01-19T12:16:47.948533",
     "status": "completed"
    },
    "tags": []
   },
   "outputs": [
    {
     "data": {
      "image/png": "[encoded data removed]",
      "text/plain": [
       "<Figure size 1418.4x595.44 with 1 Axes>"
      ]
     },
     "metadata": {},
     "output_type": "display_data"
    }
   ],
   "source": [
    "df = pd.read_csv('/kaggle/input/student-alcohol-consumption/student-mat.csv')\n",
    "\n",
    "#Dalc -> dailyalc consumption\n",
    "#Walc -> weekendalc consumption\n",
    "\n",
    "import matplotlib.pyplot as plt\n",
    "#plt.scatter(df['G1'], df['Dalc'])\n",
    "plt.scatter(df['Dalc'],df['G1'])\n",
    "plt.title('Grades per alc consumption level')\n",
    "plt.xlabel('Daily ALC'), plt.ylabel('G1 score / 20')\n",
    "\n",
    "high_alc = df[df['Dalc'] >= 3]"
   ]
  },
  {
   "cell_type": "markdown",
   "id": "4699b864",
   "metadata": {
    "_kg_hide-input": true,
    "papermill": {
     "duration": 0.024683,
     "end_time": "2023-01-19T12:16:48.413044",
     "exception": false,
     "start_time": "2023-01-19T12:16:48.388361",
     "status": "completed"
    },
    "tags": []
   },
   "source": [
    "Immediately we notice that none of the bottom performers are high consumers of alcohol, if high weekday alcohol usage is the measure of that. This is slightly strange, but I'm sure there are many potential reasons for why someone could be one of the worst performers on their math exam. \n",
    "\n",
    "This is also a rough metric since we are only assessing G1, the first exam. \n",
    "\n",
    "I define anyone who has a **Dalc** --> that is daily alcohol consumption rating,   \n",
    "of **above a 3** as\n",
    "   **high_alc**. "
   ]
  },
  {
   "cell_type": "code",
   "execution_count": 15,
   "id": "251e11fb",
   "metadata": {
    "execution": {
     "iopub.execute_input": "2023-01-19T12:16:48.463959Z",
     "iopub.status.busy": "2023-01-19T12:16:48.463512Z",
     "iopub.status.idle": "2023-01-19T12:16:48.469635Z",
     "shell.execute_reply": "2023-01-19T12:16:48.468461Z"
    },
    "papermill": {
     "duration": 0.034608,
     "end_time": "2023-01-19T12:16:48.472119",
     "exception": false,
     "start_time": "2023-01-19T12:16:48.437511",
     "status": "completed"
    },
    "tags": []
   },
   "outputs": [],
   "source": [
    "high_alc = df[df['Dalc'] >= 3]"
   ]
  },
  {
   "cell_type": "code",
   "execution_count": 16,
   "id": "032030bc",
   "metadata": {
    "execution": {
     "iopub.execute_input": "2023-01-19T12:16:48.525162Z",
     "iopub.status.busy": "2023-01-19T12:16:48.524361Z",
     "iopub.status.idle": "2023-01-19T12:16:48.910012Z",
     "shell.execute_reply": "2023-01-19T12:16:48.908704Z"
    },
    "papermill": {
     "duration": 0.415049,
     "end_time": "2023-01-19T12:16:48.912724",
     "exception": false,
     "start_time": "2023-01-19T12:16:48.497675",
     "status": "completed"
    },
    "tags": []
   },
   "outputs": [
    {
     "data": {
      "image/png": "[encoded data removed]",
      "text/plain": [
       "<Figure size 1418.4x595.44 with 1 Axes>"
      ]
     },
     "metadata": {},
     "output_type": "display_data"
    }
   ],
   "source": [
    "# here is the breakdown of dalc (daily alcohol consumption) across the student population\n",
    "sns.histplot(df['Dalc'], color = 'yellow', kde = True)\n",
    "sns.set(rc={'figure.figsize':(19.7,8.27)})"
   ]
  },
  {
   "cell_type": "code",
   "execution_count": 17,
   "id": "c99b5b19",
   "metadata": {
    "execution": {
     "iopub.execute_input": "2023-01-19T12:16:48.969174Z",
     "iopub.status.busy": "2023-01-19T12:16:48.968079Z",
     "iopub.status.idle": "2023-01-19T12:16:48.976698Z",
     "shell.execute_reply": "2023-01-19T12:16:48.975766Z"
    },
    "papermill": {
     "duration": 0.039932,
     "end_time": "2023-01-19T12:16:48.978729",
     "exception": false,
     "start_time": "2023-01-19T12:16:48.938797",
     "status": "completed"
    },
    "tags": []
   },
   "outputs": [
    {
     "data": {
      "text/plain": [
       "1    276\n",
       "2     75\n",
       "3     26\n",
       "5      9\n",
       "4      9\n",
       "Name: Dalc, dtype: int64"
      ]
     },
     "execution_count": 17,
     "metadata": {},
     "output_type": "execute_result"
    }
   ],
   "source": [
    "# more of above\n",
    "# 5 is the highest\n",
    "df.Dalc.value_counts(ascending = False)"
   ]
  },
  {
   "cell_type": "code",
   "execution_count": 18,
   "id": "5169e604",
   "metadata": {
    "execution": {
     "iopub.execute_input": "2023-01-19T12:16:49.033986Z",
     "iopub.status.busy": "2023-01-19T12:16:49.033376Z",
     "iopub.status.idle": "2023-01-19T12:16:49.048524Z",
     "shell.execute_reply": "2023-01-19T12:16:49.047027Z"
    },
    "papermill": {
     "duration": 0.046999,
     "end_time": "2023-01-19T12:16:49.052190",
     "exception": false,
     "start_time": "2023-01-19T12:16:49.005191",
     "status": "completed"
    },
    "tags": []
   },
   "outputs": [
    {
     "name": "stdout",
     "output_type": "stream",
     "text": [
      "high_alc student scores: 10.542635658914728\n",
      "NOT high_alc student scores: 11.498938428874736\n"
     ]
    }
   ],
   "source": [
    "#average test scores per three periods of exams\n",
    "df['test_avg'] = (df['G1'] + df['G2'] + df['G3']) / 3\n",
    "high_alc = df[df['Dalc'] >= 3]\n",
    "low_alc = df[df['Dalc'] <= 2]\n",
    "\n",
    "#erasing 0s\n",
    "high_alc = high_alc[high_alc.G1 != 0]\n",
    "high_alc = high_alc[high_alc.G2 != 0]\n",
    "high_alc = high_alc[high_alc.G3 != 0]\n",
    "\n",
    "low_alc = low_alc[low_alc.G1 != 0]\n",
    "low_alc = low_alc[low_alc.G2 != 0]\n",
    "low_alc = low_alc[low_alc.G3 != 0]\n",
    "\n",
    "print(\"high_alc student scores: \" + str(high_alc['test_avg'].mean()))\n",
    "print(\"NOT high_alc student scores: \" + str(low_alc['test_avg'].mean()))"
   ]
  },
  {
   "cell_type": "markdown",
   "id": "80bd8cad",
   "metadata": {
    "papermill": {
     "duration": 0.028331,
     "end_time": "2023-01-19T12:16:49.107643",
     "exception": false,
     "start_time": "2023-01-19T12:16:49.079312",
     "status": "completed"
    },
    "tags": []
   },
   "source": [
    "As you can see students labeled as low_alc had almost a 5% higher test average over three exams!"
   ]
  },
  {
   "cell_type": "code",
   "execution_count": 19,
   "id": "a48e66a4",
   "metadata": {
    "execution": {
     "iopub.execute_input": "2023-01-19T12:16:49.164502Z",
     "iopub.status.busy": "2023-01-19T12:16:49.164044Z",
     "iopub.status.idle": "2023-01-19T12:16:49.882013Z",
     "shell.execute_reply": "2023-01-19T12:16:49.880654Z"
    },
    "papermill": {
     "duration": 0.749635,
     "end_time": "2023-01-19T12:16:49.884527",
     "exception": false,
     "start_time": "2023-01-19T12:16:49.134892",
     "status": "completed"
    },
    "tags": []
   },
   "outputs": [
    {
     "data": {
      "text/plain": [
       "Text(0.5, 1.0, 'Daily Alcohol Consumption vs G1 scores histograms')"
      ]
     },
     "execution_count": 19,
     "metadata": {},
     "output_type": "execute_result"
    },
    {
     "data": {
      "image/png": "[encoded data removed]",
      "text/plain": [
       "<Figure size 432x432 with 3 Axes>"
      ]
     },
     "metadata": {},
     "output_type": "display_data"
    }
   ],
   "source": [
    "x = df['Dalc']\n",
    "y = df['G1']\n",
    "del x, y\n",
    "sns.jointplot(x = df['Dalc'], y = df['G1'], kind = 'hist')\n",
    "sns.set(rc={'figure.figsize':(19.7,8.27)})\n",
    "plt.title(\"Daily Alcohol Consumption vs G1 scores histograms\")\n",
    "#again, from the data, there is very little being\n",
    "#implied about test scores directly relating to\n",
    "#alc consumption"
   ]
  },
  {
   "cell_type": "code",
   "execution_count": 20,
   "id": "fda57d83",
   "metadata": {
    "execution": {
     "iopub.execute_input": "2023-01-19T12:16:49.939916Z",
     "iopub.status.busy": "2023-01-19T12:16:49.939498Z",
     "iopub.status.idle": "2023-01-19T12:16:49.948836Z",
     "shell.execute_reply": "2023-01-19T12:16:49.947946Z"
    },
    "papermill": {
     "duration": 0.039654,
     "end_time": "2023-01-19T12:16:49.951005",
     "exception": false,
     "start_time": "2023-01-19T12:16:49.911351",
     "status": "completed"
    },
    "tags": []
   },
   "outputs": [
    {
     "data": {
      "text/plain": [
       "no     263\n",
       "yes    132\n",
       "Name: romantic, dtype: int64"
      ]
     },
     "execution_count": 20,
     "metadata": {},
     "output_type": "execute_result"
    }
   ],
   "source": [
    "#forfun!\n",
    "#does having a partner make you a better/worse student\n",
    "df['romantic'].value_counts()"
   ]
  },
  {
   "cell_type": "code",
   "execution_count": 21,
   "id": "df53ebd8",
   "metadata": {
    "execution": {
     "iopub.execute_input": "2023-01-19T12:16:50.009715Z",
     "iopub.status.busy": "2023-01-19T12:16:50.009247Z",
     "iopub.status.idle": "2023-01-19T12:16:50.020242Z",
     "shell.execute_reply": "2023-01-19T12:16:50.018418Z"
    },
    "papermill": {
     "duration": 0.045878,
     "end_time": "2023-01-19T12:16:50.024063",
     "exception": false,
     "start_time": "2023-01-19T12:16:49.978185",
     "status": "completed"
    },
    "tags": []
   },
   "outputs": [
    {
     "name": "stdout",
     "output_type": "stream",
     "text": [
      "having a partner averages 10.143939393939394\n",
      "NOT  10.94803548795944\n"
     ]
    }
   ],
   "source": [
    "yes = df[df['romantic'] == 'yes']['test_avg'].mean()\n",
    "no = df[df['romantic'] == 'no']['test_avg'].mean()\n",
    "print(\"having a partner averages \"+ str(yes))\n",
    "print(\"NOT  \" + str(no))"
   ]
  },
  {
   "cell_type": "code",
   "execution_count": 22,
   "id": "b0a3a8a5",
   "metadata": {
    "execution": {
     "iopub.execute_input": "2023-01-19T12:16:50.082351Z",
     "iopub.status.busy": "2023-01-19T12:16:50.081941Z",
     "iopub.status.idle": "2023-01-19T12:16:50.091787Z",
     "shell.execute_reply": "2023-01-19T12:16:50.090270Z"
    },
    "papermill": {
     "duration": 0.041923,
     "end_time": "2023-01-19T12:16:50.095068",
     "exception": false,
     "start_time": "2023-01-19T12:16:50.053145",
     "status": "completed"
    },
    "tags": []
   },
   "outputs": [
    {
     "name": "stdout",
     "output_type": "stream",
     "text": [
      "involved students: 1.423\n",
      "versus noninvolved students daily alcohol consumption: 1.541\n"
     ]
    }
   ],
   "source": [
    "inv = df[df['activities'] == \"yes\"]\n",
    "noninv = df[df['activities'] == \"no\"]\n",
    "print(\"involved students: \" + str(round(inv['Dalc'].mean(), 3)))\n",
    "print(\"versus noninvolved students daily alcohol consumption: \" + str(round(noninv['Dalc'].mean(),3)))"
   ]
  },
  {
   "cell_type": "code",
   "execution_count": 23,
   "id": "fbc7b724",
   "metadata": {
    "execution": {
     "iopub.execute_input": "2023-01-19T12:16:50.152891Z",
     "iopub.status.busy": "2023-01-19T12:16:50.152469Z",
     "iopub.status.idle": "2023-01-19T12:16:50.168119Z",
     "shell.execute_reply": "2023-01-19T12:16:50.166925Z"
    },
    "papermill": {
     "duration": 0.04788,
     "end_time": "2023-01-19T12:16:50.171155",
     "exception": false,
     "start_time": "2023-01-19T12:16:50.123275",
     "status": "completed"
    },
    "tags": []
   },
   "outputs": [
    {
     "name": "stdout",
     "output_type": "stream",
     "text": [
      "apart parents student scores: 11.53846153846154\n",
      "together parents student scores: 11.364779874213836\n"
     ]
    }
   ],
   "source": [
    "div_parents = df[df['Pstatus'] == 'A']\n",
    "div_parents = div_parents[div_parents.G1 != 0]\n",
    "div_parents = div_parents[div_parents.G2 != 0]\n",
    "div_parents = div_parents[div_parents.G3 != 0]\n",
    "print(\"apart parents student scores: \" + str(div_parents['test_avg'].mean()))\n",
    "\n",
    "tog_par = df[df['Pstatus'] == 'T']\n",
    "tog_par = tog_par[tog_par.G1 != 0]\n",
    "tog_par = tog_par[tog_par.G2 != 0]\n",
    "tog_par = tog_par[tog_par.G3 != 0]\n",
    "print(\"together parents student scores: \" + str(tog_par['test_avg'].mean()))"
   ]
  },
  {
   "cell_type": "markdown",
   "id": "5fd4aa62",
   "metadata": {
    "papermill": {
     "duration": 0.027425,
     "end_time": "2023-01-19T12:16:50.226528",
     "exception": false,
     "start_time": "2023-01-19T12:16:50.199103",
     "status": "completed"
    },
    "tags": []
   },
   "source": [
    "**Do students with separated parents drink more?🍷**"
   ]
  },
  {
   "cell_type": "code",
   "execution_count": 24,
   "id": "d1ebe6b4",
   "metadata": {
    "execution": {
     "iopub.execute_input": "2023-01-19T12:16:50.284199Z",
     "iopub.status.busy": "2023-01-19T12:16:50.283777Z",
     "iopub.status.idle": "2023-01-19T12:16:50.522301Z",
     "shell.execute_reply": "2023-01-19T12:16:50.520615Z"
    },
    "papermill": {
     "duration": 0.272492,
     "end_time": "2023-01-19T12:16:50.526840",
     "exception": false,
     "start_time": "2023-01-19T12:16:50.254348",
     "status": "completed"
    },
    "tags": []
   },
   "outputs": [
    {
     "data": {
      "text/plain": [
       "Text(0.5, 1.0, 'Students with Parents Who Live Together')"
      ]
     },
     "execution_count": 24,
     "metadata": {},
     "output_type": "execute_result"
    },
    {
     "data": {
      "image/png": "[encoded data removed]",
      "text/plain": [
       "<Figure size 720x720 with 2 Axes>"
      ]
     },
     "metadata": {},
     "output_type": "display_data"
    }
   ],
   "source": [
    "#feature engineering and viz for pstatus x dalc\n",
    "sep = df[df['Pstatus'] == 'A']\n",
    "tog = df[df['Pstatus'] == 'T']\n",
    "sep_count = sep['Dalc'].value_counts(normalize = True)\n",
    "tog_count = tog['Dalc'].value_counts(normalize = True)\n",
    "#insert pie chart of these two here to show proportions\n",
    "\n",
    "fig, (ax1,ax2) = plt.subplots(1,2,figsize=(10,10)) #ax1,ax2 refer to your two pies\n",
    "\n",
    "colors = sns.color_palette('pastel')[0:5]\n",
    "colors2 = sns.color_palette('pastel')[6:11]\n",
    "\n",
    "ax1.pie(sep_count, labels = sep_count.index, colors = colors)\n",
    "ax1.set_title('Students with Parents Who Live Separately')\n",
    "ax2.pie(tog_count, labels = sep_count.index, colors = colors2)\n",
    "ax2.set_title('Students with Parents Who Live Together')"
   ]
  },
  {
   "cell_type": "code",
   "execution_count": 25,
   "id": "2920e4a7",
   "metadata": {
    "execution": {
     "iopub.execute_input": "2023-01-19T12:16:50.604147Z",
     "iopub.status.busy": "2023-01-19T12:16:50.603715Z",
     "iopub.status.idle": "2023-01-19T12:16:50.613035Z",
     "shell.execute_reply": "2023-01-19T12:16:50.611737Z"
    },
    "papermill": {
     "duration": 0.041524,
     "end_time": "2023-01-19T12:16:50.615630",
     "exception": false,
     "start_time": "2023-01-19T12:16:50.574106",
     "status": "completed"
    },
    "tags": []
   },
   "outputs": [
    {
     "name": "stdout",
     "output_type": "stream",
     "text": [
      "separated parents dalc vals 1.561 vs. those with nonseparated parents 1.481\n"
     ]
    }
   ],
   "source": [
    "#mean alconsumption of those with separated parents\n",
    "parents_alc = df[df['Pstatus'] == 'A']\n",
    "p_a = parents_alc['Dalc'].mean()\n",
    "p_b = df['Dalc'].mean()\n",
    "print(\"separated parents dalc vals \" + str(round(p_a, 3)) \n",
    "      + \" vs. those with nonseparated parents \" + str(round(p_b,3)))"
   ]
  },
  {
   "cell_type": "markdown",
   "id": "293d4ff4",
   "metadata": {
    "papermill": {
     "duration": 0.027998,
     "end_time": "2023-01-19T12:16:50.672270",
     "exception": false,
     "start_time": "2023-01-19T12:16:50.644272",
     "status": "completed"
    },
    "tags": []
   },
   "source": [
    "This is an interesting comparison. Those who have separated parents\n",
    "seem to drink more alcohol than those who don't. I\n",
    "will explore this later. \n",
    "\n",
    "I think that even though this dataset is aimed to calculate how \n",
    "alcohol consumption affects students' math exam scores,\n",
    "it is maybe more relevant to see how these other variables\n",
    "affect alcohol consumption in the first place."
   ]
  },
  {
   "cell_type": "code",
   "execution_count": 26,
   "id": "73c307d7",
   "metadata": {
    "execution": {
     "iopub.execute_input": "2023-01-19T12:16:50.730251Z",
     "iopub.status.busy": "2023-01-19T12:16:50.729829Z",
     "iopub.status.idle": "2023-01-19T12:16:51.359802Z",
     "shell.execute_reply": "2023-01-19T12:16:51.358938Z"
    },
    "papermill": {
     "duration": 0.661978,
     "end_time": "2023-01-19T12:16:51.362268",
     "exception": false,
     "start_time": "2023-01-19T12:16:50.700290",
     "status": "completed"
    },
    "tags": []
   },
   "outputs": [
    {
     "data": {
      "image/png": "[encoded data removed]",
      "text/plain": [
       "<Figure size 1418.4x595.44 with 2 Axes>"
      ]
     },
     "metadata": {},
     "output_type": "display_data"
    }
   ],
   "source": [
    "corrmatrix = df.corr()\n",
    "plt.show()\n",
    "sns.heatmap(corrmatrix)\n",
    "sns.set(rc={'figure.figsize':(17,8.27)})"
   ]
  },
  {
   "cell_type": "markdown",
   "id": "f0dbd696",
   "metadata": {
    "papermill": {
     "duration": 0.028361,
     "end_time": "2023-01-19T12:16:51.419613",
     "exception": false,
     "start_time": "2023-01-19T12:16:51.391252",
     "status": "completed"
    },
    "tags": []
   },
   "source": [
    "**What makes a good student?📚**"
   ]
  },
  {
   "cell_type": "code",
   "execution_count": 27,
   "id": "5b7cb970",
   "metadata": {
    "execution": {
     "iopub.execute_input": "2023-01-19T12:16:51.478932Z",
     "iopub.status.busy": "2023-01-19T12:16:51.478509Z",
     "iopub.status.idle": "2023-01-19T12:16:51.487463Z",
     "shell.execute_reply": "2023-01-19T12:16:51.486306Z"
    },
    "papermill": {
     "duration": 0.041335,
     "end_time": "2023-01-19T12:16:51.489764",
     "exception": false,
     "start_time": "2023-01-19T12:16:51.448429",
     "status": "completed"
    },
    "tags": []
   },
   "outputs": [
    {
     "data": {
      "text/plain": [
       "failures     -0.375759\n",
       "goout        -0.154511\n",
       "age          -0.134589\n",
       "traveltime   -0.128197\n",
       "Walc         -0.088025\n",
       "health       -0.080380\n",
       "Dalc         -0.072508\n",
       "absences     -0.005909\n",
       "freetime      0.003773\n",
       "famrel        0.021653\n",
       "studytime     0.134565\n",
       "Fedu          0.175852\n",
       "Medu          0.224260\n",
       "G1            0.919386\n",
       "G3            0.959873\n",
       "G2            0.967999\n",
       "test_avg      1.000000\n",
       "Name: test_avg, dtype: float64"
      ]
     },
     "execution_count": 27,
     "metadata": {},
     "output_type": "execute_result"
    }
   ],
   "source": [
    "#or at least a high test scorer..\n",
    "corrmatrix['test_avg'].sort_values()"
   ]
  },
  {
   "cell_type": "code",
   "execution_count": 28,
   "id": "c8491d08",
   "metadata": {
    "execution": {
     "iopub.execute_input": "2023-01-19T12:16:51.549420Z",
     "iopub.status.busy": "2023-01-19T12:16:51.549028Z",
     "iopub.status.idle": "2023-01-19T12:16:51.558990Z",
     "shell.execute_reply": "2023-01-19T12:16:51.557468Z"
    },
    "papermill": {
     "duration": 0.042906,
     "end_time": "2023-01-19T12:16:51.561532",
     "exception": false,
     "start_time": "2023-01-19T12:16:51.518626",
     "status": "completed"
    },
    "tags": []
   },
   "outputs": [
    {
     "data": {
      "text/plain": [
       "failures     -0.354718\n",
       "goout        -0.149104\n",
       "Walc         -0.126179\n",
       "Dalc         -0.094159\n",
       "traveltime   -0.093040\n",
       "health       -0.073172\n",
       "age          -0.064081\n",
       "absences     -0.031003\n",
       "freetime      0.012613\n",
       "famrel        0.022168\n",
       "studytime     0.160612\n",
       "Fedu          0.190270\n",
       "Medu          0.205341\n",
       "G3            0.801468\n",
       "G2            0.852118\n",
       "test_avg      0.919386\n",
       "G1            1.000000\n",
       "Name: G1, dtype: float64"
      ]
     },
     "execution_count": 28,
     "metadata": {},
     "output_type": "execute_result"
    }
   ],
   "source": [
    "corrmatrix['G1'].sort_values()"
   ]
  },
  {
   "cell_type": "markdown",
   "id": "19f7da2c",
   "metadata": {
    "papermill": {
     "duration": 0.028768,
     "end_time": "2023-01-19T12:16:51.621438",
     "exception": false,
     "start_time": "2023-01-19T12:16:51.592670",
     "status": "completed"
    },
    "tags": []
   },
   "source": [
    "As you can see from this heatmap, one of the best predictors of G3\n",
    "test scores is G1 or G2 scores. IE, the best predictor for a students\n",
    "test scores is their previous test scores. Additionally, from heatmap, we can\n",
    "see that Mother and Father education is the next best predictor of exam scores as a whole\n",
    "\n",
    "**Mother and Father education are more correlated with test scores\n",
    "than studytime itself!!**"
   ]
  },
  {
   "cell_type": "code",
   "execution_count": 29,
   "id": "a40b231c",
   "metadata": {
    "execution": {
     "iopub.execute_input": "2023-01-19T12:16:51.682343Z",
     "iopub.status.busy": "2023-01-19T12:16:51.681945Z",
     "iopub.status.idle": "2023-01-19T12:16:51.690660Z",
     "shell.execute_reply": "2023-01-19T12:16:51.689290Z"
    },
    "papermill": {
     "duration": 0.042469,
     "end_time": "2023-01-19T12:16:51.693458",
     "exception": false,
     "start_time": "2023-01-19T12:16:51.650989",
     "status": "completed"
    },
    "tags": []
   },
   "outputs": [
    {
     "name": "stdout",
     "output_type": "stream",
     "text": [
      "Correlations of important variables on G1 scores\n",
      "\n",
      "Mother education on G1 score = 0.21\n",
      "Father education on G1 score = 0.19\n",
      "Study time on G1 score = 0.16\n",
      "G2score on G1 score = 0.85\n"
     ]
    }
   ],
   "source": [
    "medug1 = corrmatrix['Medu']['G1']\n",
    "fedug1 = corrmatrix['Fedu']['G1']\n",
    "studtimeG1 = corrmatrix['studytime']['G1']\n",
    "g2ong1 = corrmatrix['G2']['G1']\n",
    "print(\"Correlations of important variables on G1 scores\\n\")\n",
    "print(\"Mother education on G1 score = \" + str(round(medug1,2)))\n",
    "print(\"Father education on G1 score = \" + str(round(fedug1,2)))\n",
    "print(\"Study time on G1 score = \" + str(round(studtimeG1,2)))\n",
    "print(\"G2score on G1 score = \" + str(round(g2ong1,2)))"
   ]
  },
  {
   "cell_type": "code",
   "execution_count": 30,
   "id": "3c740f1d",
   "metadata": {
    "execution": {
     "iopub.execute_input": "2023-01-19T12:16:51.753998Z",
     "iopub.status.busy": "2023-01-19T12:16:51.753583Z",
     "iopub.status.idle": "2023-01-19T12:16:52.223527Z",
     "shell.execute_reply": "2023-01-19T12:16:52.222204Z"
    },
    "papermill": {
     "duration": 0.503227,
     "end_time": "2023-01-19T12:16:52.226155",
     "exception": false,
     "start_time": "2023-01-19T12:16:51.722928",
     "status": "completed"
    },
    "tags": []
   },
   "outputs": [
    {
     "name": "stdout",
     "output_type": "stream",
     "text": [
      "Variables that correlative very negatively: \n",
      "\n",
      "failures     -0.354718\n",
      "goout        -0.149104\n",
      "Walc         -0.126179\n",
      "Dalc         -0.094159\n",
      "traveltime   -0.093040\n",
      "Name: G1, dtype: float64\n"
     ]
    },
    {
     "data": {
      "image/png": "[encoded data removed]",
      "text/plain": [
       "<Figure size 1224x595.44 with 2 Axes>"
      ]
     },
     "metadata": {},
     "output_type": "display_data"
    }
   ],
   "source": [
    "print(\"Variables that correlative very negatively: \\n\")\n",
    "sns.heatmap(corrmatrix)\n",
    "print(corrmatrix['G1'].sort_values().head())"
   ]
  },
  {
   "cell_type": "markdown",
   "id": "78ea4136",
   "metadata": {
    "papermill": {
     "duration": 0.030721,
     "end_time": "2023-01-19T12:16:52.287574",
     "exception": false,
     "start_time": "2023-01-19T12:16:52.256853",
     "status": "completed"
    },
    "tags": []
   },
   "source": [
    "The heatmap also shows which values are highly negatively correlated. This is just\n",
    "as important because they can be good predictors as well. \n",
    "\n",
    "For example, one of the biggest factors that negatively-correlates with class failures\n",
    "and test scores is parents education. The more educated your parents are, the \n",
    "less likely you are to fail a class or even perform poorly on your exams.\n",
    "\n",
    "Going out is also deeply correlated with failures and with low scores on exams. On the contrary,\n",
    "traveltime to and from campus is also strongly correlated.\n",
    "\n",
    "This heatmap has lost some variables since they are categorical. For example,\n",
    "Parent separation status, which I think would have a large impact on either \n",
    "alcohol usage or absences or even test scores. "
   ]
  },
  {
   "cell_type": "code",
   "execution_count": 31,
   "id": "c428f9a0",
   "metadata": {
    "execution": {
     "iopub.execute_input": "2023-01-19T12:16:52.350572Z",
     "iopub.status.busy": "2023-01-19T12:16:52.350174Z",
     "iopub.status.idle": "2023-01-19T12:16:52.366223Z",
     "shell.execute_reply": "2023-01-19T12:16:52.364746Z"
    },
    "papermill": {
     "duration": 0.050997,
     "end_time": "2023-01-19T12:16:52.369074",
     "exception": false,
     "start_time": "2023-01-19T12:16:52.318077",
     "status": "completed"
    },
    "tags": []
   },
   "outputs": [],
   "source": [
    "colnames = df.columns\n",
    "i = len(df['Pstatus'])\n",
    "newcol = []\n",
    "j = 0\n",
    "while j < i:\n",
    "    if(df['Pstatus'][j] == 'T'):\n",
    "        newcol.append(0)\n",
    "    if(df['Pstatus'][j] == 'A'):\n",
    "        newcol.append(1)\n",
    "    j += 1\n",
    "df['Pstatus1'] = newcol\n",
    "corrmatrix2 = df.corr()\n",
    "plt.show()\n",
    "#sns.heatmap(corrmatrix2)\n",
    "#\n",
    "pstatusonG1 = corrmatrix2['Pstatus1'].sort_values()\n",
    "#This variable --^ is a sorted container of the most correlated values with parental residential status\n"
   ]
  },
  {
   "cell_type": "code",
   "execution_count": 32,
   "id": "5727c304",
   "metadata": {
    "execution": {
     "iopub.execute_input": "2023-01-19T12:16:52.432017Z",
     "iopub.status.busy": "2023-01-19T12:16:52.431579Z",
     "iopub.status.idle": "2023-01-19T12:16:52.439653Z",
     "shell.execute_reply": "2023-01-19T12:16:52.438479Z"
    },
    "papermill": {
     "duration": 0.04246,
     "end_time": "2023-01-19T12:16:52.441967",
     "exception": false,
     "start_time": "2023-01-19T12:16:52.399507",
     "status": "completed"
    },
    "tags": []
   },
   "outputs": [
    {
     "data": {
      "text/plain": [
       "freetime     -0.038717\n",
       "age          -0.029598\n",
       "traveltime   -0.028265\n",
       "famrel       -0.025179\n",
       "studytime    -0.024294\n",
       "health       -0.022307\n",
       "Walc         -0.006045\n",
       "goout        -0.003459\n",
       "failures      0.003339\n",
       "G1            0.016868\n",
       "Dalc          0.030590\n",
       "G2            0.041382\n",
       "test_avg      0.043048\n",
       "G3            0.058009\n",
       "Fedu          0.088730\n",
       "Medu          0.123565\n",
       "absences      0.134937\n",
       "Pstatus1      1.000000\n",
       "Name: Pstatus1, dtype: float64"
      ]
     },
     "execution_count": 32,
     "metadata": {},
     "output_type": "execute_result"
    }
   ],
   "source": [
    "pstatusonG1"
   ]
  },
  {
   "cell_type": "markdown",
   "id": "5b7e14bf",
   "metadata": {
    "papermill": {
     "duration": 0.030046,
     "end_time": "2023-01-19T12:16:52.502563",
     "exception": false,
     "start_time": "2023-01-19T12:16:52.472517",
     "status": "completed"
    },
    "tags": []
   },
   "source": [
    "I found that parental relationship status was an interesting metric to track in this dataset. I mapped parents who were apart as a 1, and those who were together as a 0. (Solely for coherence) The other statistic that this variable is most correlated with is absences. There is a negative correlation between students who have apart parents and their attendance\\\n",
    "In terms of what this variable is correlated with in the negative department: freetime, age, traveltime, and family relationship.\\\n",
    "This is clearly an influential variable and will be important for our models later."
   ]
  },
  {
   "cell_type": "code",
   "execution_count": 33,
   "id": "2b5d3280",
   "metadata": {
    "execution": {
     "iopub.execute_input": "2023-01-19T12:16:52.566057Z",
     "iopub.status.busy": "2023-01-19T12:16:52.564968Z",
     "iopub.status.idle": "2023-01-19T12:16:52.574928Z",
     "shell.execute_reply": "2023-01-19T12:16:52.573732Z"
    },
    "papermill": {
     "duration": 0.0442,
     "end_time": "2023-01-19T12:16:52.577318",
     "exception": false,
     "start_time": "2023-01-19T12:16:52.533118",
     "status": "completed"
    },
    "tags": []
   },
   "outputs": [
    {
     "data": {
      "text/plain": [
       "studytime    -0.196019\n",
       "G1           -0.094159\n",
       "famrel       -0.077594\n",
       "test_avg     -0.072508\n",
       "G2           -0.064120\n",
       "G3           -0.054660\n",
       "Fedu          0.002386\n",
       "Medu          0.019834\n",
       "Pstatus1      0.030590\n",
       "health        0.077180\n",
       "absences      0.111908\n",
       "age           0.131125\n",
       "failures      0.136047\n",
       "traveltime    0.138325\n",
       "freetime      0.209001\n",
       "goout         0.266994\n",
       "Walc          0.647544\n",
       "Dalc          1.000000\n",
       "Name: Dalc, dtype: float64"
      ]
     },
     "execution_count": 33,
     "metadata": {},
     "output_type": "execute_result"
    }
   ],
   "source": [
    "#variables most correlated with Daily Alcohol Consumption: WALC, GOOUT, freetime, etc...\n",
    "corrmatrix2['Dalc'].sort_values()"
   ]
  },
  {
   "cell_type": "code",
   "execution_count": 34,
   "id": "0f28bcf1",
   "metadata": {
    "execution": {
     "iopub.execute_input": "2023-01-19T12:16:52.643641Z",
     "iopub.status.busy": "2023-01-19T12:16:52.642855Z",
     "iopub.status.idle": "2023-01-19T12:16:52.658283Z",
     "shell.execute_reply": "2023-01-19T12:16:52.657209Z"
    },
    "papermill": {
     "duration": 0.050598,
     "end_time": "2023-01-19T12:16:52.660719",
     "exception": false,
     "start_time": "2023-01-19T12:16:52.610121",
     "status": "completed"
    },
    "tags": []
   },
   "outputs": [
    {
     "data": {
      "text/html": [
       "<div>\n",
       "<style scoped>\n",
       "    .dataframe tbody tr th:only-of-type {\n",
       "        vertical-align: middle;\n",
       "    }\n",
       "\n",
       "    .dataframe tbody tr th {\n",
       "        vertical-align: top;\n",
       "    }\n",
       "\n",
       "    .dataframe thead th {\n",
       "        text-align: right;\n",
       "    }\n",
       "</style>\n",
       "<table border=\"1\" class=\"dataframe\">\n",
       "  <thead>\n",
       "    <tr style=\"text-align: right;\">\n",
       "      <th></th>\n",
       "      <th>test_avg</th>\n",
       "    </tr>\n",
       "    <tr>\n",
       "      <th>Dalc</th>\n",
       "      <th></th>\n",
       "    </tr>\n",
       "  </thead>\n",
       "  <tbody>\n",
       "    <tr>\n",
       "      <th>1</th>\n",
       "      <td>10.945652</td>\n",
       "    </tr>\n",
       "    <tr>\n",
       "      <th>2</th>\n",
       "      <td>9.857778</td>\n",
       "    </tr>\n",
       "    <tr>\n",
       "      <th>3</th>\n",
       "      <td>10.538462</td>\n",
       "    </tr>\n",
       "    <tr>\n",
       "      <th>4</th>\n",
       "      <td>9.814815</td>\n",
       "    </tr>\n",
       "    <tr>\n",
       "      <th>5</th>\n",
       "      <td>10.629630</td>\n",
       "    </tr>\n",
       "  </tbody>\n",
       "</table>\n",
       "</div>"
      ],
      "text/plain": [
       "       test_avg\n",
       "Dalc           \n",
       "1     10.945652\n",
       "2      9.857778\n",
       "3     10.538462\n",
       "4      9.814815\n",
       "5     10.629630"
      ]
     },
     "execution_count": 34,
     "metadata": {},
     "output_type": "execute_result"
    }
   ],
   "source": [
    "#perfect amount to drink?\n",
    "hold = df[['Dalc', 'Walc', 'test_avg']]\n",
    "p = hold[['Dalc', 'test_avg']].groupby('Dalc')\n",
    "p.mean()"
   ]
  },
  {
   "cell_type": "code",
   "execution_count": 35,
   "id": "d5d0c9f4",
   "metadata": {
    "execution": {
     "iopub.execute_input": "2023-01-19T12:16:52.724485Z",
     "iopub.status.busy": "2023-01-19T12:16:52.724085Z",
     "iopub.status.idle": "2023-01-19T12:16:52.736852Z",
     "shell.execute_reply": "2023-01-19T12:16:52.736054Z"
    },
    "papermill": {
     "duration": 0.046957,
     "end_time": "2023-01-19T12:16:52.738749",
     "exception": false,
     "start_time": "2023-01-19T12:16:52.691792",
     "status": "completed"
    },
    "tags": []
   },
   "outputs": [
    {
     "data": {
      "text/html": [
       "<div>\n",
       "<style scoped>\n",
       "    .dataframe tbody tr th:only-of-type {\n",
       "        vertical-align: middle;\n",
       "    }\n",
       "\n",
       "    .dataframe tbody tr th {\n",
       "        vertical-align: top;\n",
       "    }\n",
       "\n",
       "    .dataframe thead th {\n",
       "        text-align: right;\n",
       "    }\n",
       "</style>\n",
       "<table border=\"1\" class=\"dataframe\">\n",
       "  <thead>\n",
       "    <tr style=\"text-align: right;\">\n",
       "      <th></th>\n",
       "      <th>test_avg</th>\n",
       "    </tr>\n",
       "    <tr>\n",
       "      <th>Walc</th>\n",
       "      <th></th>\n",
       "    </tr>\n",
       "  </thead>\n",
       "  <tbody>\n",
       "    <tr>\n",
       "      <th>1</th>\n",
       "      <td>10.988962</td>\n",
       "    </tr>\n",
       "    <tr>\n",
       "      <th>2</th>\n",
       "      <td>10.654902</td>\n",
       "    </tr>\n",
       "    <tr>\n",
       "      <th>3</th>\n",
       "      <td>10.858333</td>\n",
       "    </tr>\n",
       "    <tr>\n",
       "      <th>4</th>\n",
       "      <td>9.810458</td>\n",
       "    </tr>\n",
       "    <tr>\n",
       "      <th>5</th>\n",
       "      <td>10.154762</td>\n",
       "    </tr>\n",
       "  </tbody>\n",
       "</table>\n",
       "</div>"
      ],
      "text/plain": [
       "       test_avg\n",
       "Walc           \n",
       "1     10.988962\n",
       "2     10.654902\n",
       "3     10.858333\n",
       "4      9.810458\n",
       "5     10.154762"
      ]
     },
     "execution_count": 35,
     "metadata": {},
     "output_type": "execute_result"
    }
   ],
   "source": [
    "p = hold[['Walc', 'test_avg']].groupby('Walc')\n",
    "p.mean()"
   ]
  },
  {
   "cell_type": "code",
   "execution_count": 36,
   "id": "093ed2a8",
   "metadata": {
    "execution": {
     "iopub.execute_input": "2023-01-19T12:16:52.803151Z",
     "iopub.status.busy": "2023-01-19T12:16:52.802359Z",
     "iopub.status.idle": "2023-01-19T12:16:52.827681Z",
     "shell.execute_reply": "2023-01-19T12:16:52.826459Z"
    },
    "papermill": {
     "duration": 0.060262,
     "end_time": "2023-01-19T12:16:52.830180",
     "exception": false,
     "start_time": "2023-01-19T12:16:52.769918",
     "status": "completed"
    },
    "tags": []
   },
   "outputs": [
    {
     "data": {
      "text/html": [
       "<div>\n",
       "<style scoped>\n",
       "    .dataframe tbody tr th:only-of-type {\n",
       "        vertical-align: middle;\n",
       "    }\n",
       "\n",
       "    .dataframe tbody tr th {\n",
       "        vertical-align: top;\n",
       "    }\n",
       "\n",
       "    .dataframe thead th {\n",
       "        text-align: right;\n",
       "    }\n",
       "</style>\n",
       "<table border=\"1\" class=\"dataframe\">\n",
       "  <thead>\n",
       "    <tr style=\"text-align: right;\">\n",
       "      <th></th>\n",
       "      <th></th>\n",
       "      <th>test_avg</th>\n",
       "      <th>count</th>\n",
       "      <th>failures</th>\n",
       "    </tr>\n",
       "    <tr>\n",
       "      <th>Dalc</th>\n",
       "      <th>Walc</th>\n",
       "      <th></th>\n",
       "      <th></th>\n",
       "      <th></th>\n",
       "    </tr>\n",
       "  </thead>\n",
       "  <tbody>\n",
       "    <tr>\n",
       "      <th rowspan=\"5\" valign=\"top\">1</th>\n",
       "      <th>1</th>\n",
       "      <td>11.033333</td>\n",
       "      <td>150</td>\n",
       "      <td>0.253333</td>\n",
       "    </tr>\n",
       "    <tr>\n",
       "      <th>2</th>\n",
       "      <td>10.815385</td>\n",
       "      <td>65</td>\n",
       "      <td>0.200000</td>\n",
       "    </tr>\n",
       "    <tr>\n",
       "      <th>3</th>\n",
       "      <td>11.134921</td>\n",
       "      <td>42</td>\n",
       "      <td>0.166667</td>\n",
       "    </tr>\n",
       "    <tr>\n",
       "      <th>4</th>\n",
       "      <td>10.311111</td>\n",
       "      <td>15</td>\n",
       "      <td>0.200000</td>\n",
       "    </tr>\n",
       "    <tr>\n",
       "      <th>5</th>\n",
       "      <td>10.166667</td>\n",
       "      <td>4</td>\n",
       "      <td>1.500000</td>\n",
       "    </tr>\n",
       "    <tr>\n",
       "      <th rowspan=\"5\" valign=\"top\">2</th>\n",
       "      <th>1</th>\n",
       "      <td>4.333333</td>\n",
       "      <td>1</td>\n",
       "      <td>0.000000</td>\n",
       "    </tr>\n",
       "    <tr>\n",
       "      <th>2</th>\n",
       "      <td>9.870370</td>\n",
       "      <td>18</td>\n",
       "      <td>0.722222</td>\n",
       "    </tr>\n",
       "    <tr>\n",
       "      <th>3</th>\n",
       "      <td>10.885057</td>\n",
       "      <td>29</td>\n",
       "      <td>0.344828</td>\n",
       "    </tr>\n",
       "    <tr>\n",
       "      <th>4</th>\n",
       "      <td>8.757576</td>\n",
       "      <td>22</td>\n",
       "      <td>0.590909</td>\n",
       "    </tr>\n",
       "    <tr>\n",
       "      <th>5</th>\n",
       "      <td>9.800000</td>\n",
       "      <td>5</td>\n",
       "      <td>1.400000</td>\n",
       "    </tr>\n",
       "    <tr>\n",
       "      <th rowspan=\"4\" valign=\"top\">3</th>\n",
       "      <th>2</th>\n",
       "      <td>12.666667</td>\n",
       "      <td>1</td>\n",
       "      <td>0.000000</td>\n",
       "    </tr>\n",
       "    <tr>\n",
       "      <th>3</th>\n",
       "      <td>10.000000</td>\n",
       "      <td>8</td>\n",
       "      <td>1.125000</td>\n",
       "    </tr>\n",
       "    <tr>\n",
       "      <th>4</th>\n",
       "      <td>10.939394</td>\n",
       "      <td>11</td>\n",
       "      <td>0.272727</td>\n",
       "    </tr>\n",
       "    <tr>\n",
       "      <th>5</th>\n",
       "      <td>10.166667</td>\n",
       "      <td>6</td>\n",
       "      <td>0.333333</td>\n",
       "    </tr>\n",
       "    <tr>\n",
       "      <th rowspan=\"4\" valign=\"top\">4</th>\n",
       "      <th>2</th>\n",
       "      <td>12.333333</td>\n",
       "      <td>1</td>\n",
       "      <td>0.000000</td>\n",
       "    </tr>\n",
       "    <tr>\n",
       "      <th>3</th>\n",
       "      <td>5.333333</td>\n",
       "      <td>1</td>\n",
       "      <td>1.000000</td>\n",
       "    </tr>\n",
       "    <tr>\n",
       "      <th>4</th>\n",
       "      <td>10.888889</td>\n",
       "      <td>3</td>\n",
       "      <td>0.333333</td>\n",
       "    </tr>\n",
       "    <tr>\n",
       "      <th>5</th>\n",
       "      <td>9.500000</td>\n",
       "      <td>4</td>\n",
       "      <td>0.500000</td>\n",
       "    </tr>\n",
       "    <tr>\n",
       "      <th>5</th>\n",
       "      <th>5</th>\n",
       "      <td>10.629630</td>\n",
       "      <td>9</td>\n",
       "      <td>0.444444</td>\n",
       "    </tr>\n",
       "  </tbody>\n",
       "</table>\n",
       "</div>"
      ],
      "text/plain": [
       "            test_avg  count  failures\n",
       "Dalc Walc                            \n",
       "1    1     11.033333    150  0.253333\n",
       "     2     10.815385     65  0.200000\n",
       "     3     11.134921     42  0.166667\n",
       "     4     10.311111     15  0.200000\n",
       "     5     10.166667      4  1.500000\n",
       "2    1      4.333333      1  0.000000\n",
       "     2      9.870370     18  0.722222\n",
       "     3     10.885057     29  0.344828\n",
       "     4      8.757576     22  0.590909\n",
       "     5      9.800000      5  1.400000\n",
       "3    2     12.666667      1  0.000000\n",
       "     3     10.000000      8  1.125000\n",
       "     4     10.939394     11  0.272727\n",
       "     5     10.166667      6  0.333333\n",
       "4    2     12.333333      1  0.000000\n",
       "     3      5.333333      1  1.000000\n",
       "     4     10.888889      3  0.333333\n",
       "     5      9.500000      4  0.500000\n",
       "5    5     10.629630      9  0.444444"
      ]
     },
     "execution_count": 36,
     "metadata": {},
     "output_type": "execute_result"
    }
   ],
   "source": [
    "#this is a multilevel dataframe (dF with multilevel index) \n",
    "#    that shows test score average per group\n",
    "#    it also shows how many people are in each group\n",
    "#    it ALSO shows the failure averages per group\n",
    "\n",
    "p = hold[['Walc', 'Dalc', 'test_avg']].groupby(['Dalc', 'Walc'])\n",
    "p = p.mean()\n",
    "p['count'] = hold[['Walc', 'Dalc', 'test_avg']].groupby(['Dalc', 'Walc']).count()\n",
    "p['failures'] = df[['Walc', 'Dalc', 'failures']].groupby(['Dalc', 'Walc']).mean()\n",
    "p"
   ]
  },
  {
   "cell_type": "code",
   "execution_count": 37,
   "id": "67904e68",
   "metadata": {
    "execution": {
     "iopub.execute_input": "2023-01-19T12:16:52.895351Z",
     "iopub.status.busy": "2023-01-19T12:16:52.894702Z",
     "iopub.status.idle": "2023-01-19T12:16:52.919777Z",
     "shell.execute_reply": "2023-01-19T12:16:52.918643Z"
    },
    "papermill": {
     "duration": 0.059643,
     "end_time": "2023-01-19T12:16:52.922159",
     "exception": false,
     "start_time": "2023-01-19T12:16:52.862516",
     "status": "completed"
    },
    "tags": []
   },
   "outputs": [
    {
     "data": {
      "text/html": [
       "<div>\n",
       "<style scoped>\n",
       "    .dataframe tbody tr th:only-of-type {\n",
       "        vertical-align: middle;\n",
       "    }\n",
       "\n",
       "    .dataframe tbody tr th {\n",
       "        vertical-align: top;\n",
       "    }\n",
       "\n",
       "    .dataframe thead th {\n",
       "        text-align: right;\n",
       "    }\n",
       "</style>\n",
       "<table border=\"1\" class=\"dataframe\">\n",
       "  <thead>\n",
       "    <tr style=\"text-align: right;\">\n",
       "      <th></th>\n",
       "      <th>school</th>\n",
       "      <th>sex</th>\n",
       "      <th>age</th>\n",
       "      <th>address</th>\n",
       "      <th>famsize</th>\n",
       "      <th>Pstatus</th>\n",
       "      <th>Medu</th>\n",
       "      <th>Fedu</th>\n",
       "      <th>Mjob</th>\n",
       "      <th>Fjob</th>\n",
       "      <th>...</th>\n",
       "      <th>goout</th>\n",
       "      <th>Dalc</th>\n",
       "      <th>Walc</th>\n",
       "      <th>health</th>\n",
       "      <th>absences</th>\n",
       "      <th>G1</th>\n",
       "      <th>G2</th>\n",
       "      <th>G3</th>\n",
       "      <th>test_avg</th>\n",
       "      <th>Pstatus1</th>\n",
       "    </tr>\n",
       "  </thead>\n",
       "  <tbody>\n",
       "    <tr>\n",
       "      <th>29</th>\n",
       "      <td>GP</td>\n",
       "      <td>M</td>\n",
       "      <td>16</td>\n",
       "      <td>U</td>\n",
       "      <td>GT3</td>\n",
       "      <td>T</td>\n",
       "      <td>4</td>\n",
       "      <td>4</td>\n",
       "      <td>teacher</td>\n",
       "      <td>teacher</td>\n",
       "      <td>...</td>\n",
       "      <td>5</td>\n",
       "      <td>5</td>\n",
       "      <td>5</td>\n",
       "      <td>5</td>\n",
       "      <td>16</td>\n",
       "      <td>10</td>\n",
       "      <td>12</td>\n",
       "      <td>11</td>\n",
       "      <td>11.000000</td>\n",
       "      <td>0</td>\n",
       "    </tr>\n",
       "    <tr>\n",
       "      <th>61</th>\n",
       "      <td>GP</td>\n",
       "      <td>F</td>\n",
       "      <td>16</td>\n",
       "      <td>U</td>\n",
       "      <td>GT3</td>\n",
       "      <td>T</td>\n",
       "      <td>1</td>\n",
       "      <td>1</td>\n",
       "      <td>services</td>\n",
       "      <td>services</td>\n",
       "      <td>...</td>\n",
       "      <td>5</td>\n",
       "      <td>5</td>\n",
       "      <td>5</td>\n",
       "      <td>5</td>\n",
       "      <td>6</td>\n",
       "      <td>10</td>\n",
       "      <td>8</td>\n",
       "      <td>11</td>\n",
       "      <td>9.666667</td>\n",
       "      <td>0</td>\n",
       "    </tr>\n",
       "    <tr>\n",
       "      <th>66</th>\n",
       "      <td>GP</td>\n",
       "      <td>M</td>\n",
       "      <td>15</td>\n",
       "      <td>U</td>\n",
       "      <td>GT3</td>\n",
       "      <td>A</td>\n",
       "      <td>4</td>\n",
       "      <td>4</td>\n",
       "      <td>other</td>\n",
       "      <td>services</td>\n",
       "      <td>...</td>\n",
       "      <td>3</td>\n",
       "      <td>5</td>\n",
       "      <td>5</td>\n",
       "      <td>3</td>\n",
       "      <td>4</td>\n",
       "      <td>13</td>\n",
       "      <td>13</td>\n",
       "      <td>12</td>\n",
       "      <td>12.666667</td>\n",
       "      <td>1</td>\n",
       "    </tr>\n",
       "    <tr>\n",
       "      <th>100</th>\n",
       "      <td>GP</td>\n",
       "      <td>M</td>\n",
       "      <td>16</td>\n",
       "      <td>U</td>\n",
       "      <td>GT3</td>\n",
       "      <td>T</td>\n",
       "      <td>4</td>\n",
       "      <td>4</td>\n",
       "      <td>services</td>\n",
       "      <td>services</td>\n",
       "      <td>...</td>\n",
       "      <td>5</td>\n",
       "      <td>5</td>\n",
       "      <td>5</td>\n",
       "      <td>4</td>\n",
       "      <td>14</td>\n",
       "      <td>7</td>\n",
       "      <td>7</td>\n",
       "      <td>5</td>\n",
       "      <td>6.333333</td>\n",
       "      <td>0</td>\n",
       "    </tr>\n",
       "    <tr>\n",
       "      <th>223</th>\n",
       "      <td>GP</td>\n",
       "      <td>M</td>\n",
       "      <td>18</td>\n",
       "      <td>U</td>\n",
       "      <td>GT3</td>\n",
       "      <td>T</td>\n",
       "      <td>2</td>\n",
       "      <td>2</td>\n",
       "      <td>other</td>\n",
       "      <td>other</td>\n",
       "      <td>...</td>\n",
       "      <td>3</td>\n",
       "      <td>5</td>\n",
       "      <td>5</td>\n",
       "      <td>4</td>\n",
       "      <td>0</td>\n",
       "      <td>12</td>\n",
       "      <td>13</td>\n",
       "      <td>13</td>\n",
       "      <td>12.666667</td>\n",
       "      <td>0</td>\n",
       "    </tr>\n",
       "    <tr>\n",
       "      <th>236</th>\n",
       "      <td>GP</td>\n",
       "      <td>M</td>\n",
       "      <td>17</td>\n",
       "      <td>U</td>\n",
       "      <td>LE3</td>\n",
       "      <td>T</td>\n",
       "      <td>2</td>\n",
       "      <td>2</td>\n",
       "      <td>other</td>\n",
       "      <td>other</td>\n",
       "      <td>...</td>\n",
       "      <td>2</td>\n",
       "      <td>5</td>\n",
       "      <td>5</td>\n",
       "      <td>4</td>\n",
       "      <td>4</td>\n",
       "      <td>14</td>\n",
       "      <td>13</td>\n",
       "      <td>13</td>\n",
       "      <td>13.333333</td>\n",
       "      <td>0</td>\n",
       "    </tr>\n",
       "    <tr>\n",
       "      <th>247</th>\n",
       "      <td>GP</td>\n",
       "      <td>M</td>\n",
       "      <td>22</td>\n",
       "      <td>U</td>\n",
       "      <td>GT3</td>\n",
       "      <td>T</td>\n",
       "      <td>3</td>\n",
       "      <td>1</td>\n",
       "      <td>services</td>\n",
       "      <td>services</td>\n",
       "      <td>...</td>\n",
       "      <td>5</td>\n",
       "      <td>5</td>\n",
       "      <td>5</td>\n",
       "      <td>1</td>\n",
       "      <td>16</td>\n",
       "      <td>6</td>\n",
       "      <td>8</td>\n",
       "      <td>8</td>\n",
       "      <td>7.333333</td>\n",
       "      <td>0</td>\n",
       "    </tr>\n",
       "    <tr>\n",
       "      <th>327</th>\n",
       "      <td>GP</td>\n",
       "      <td>M</td>\n",
       "      <td>17</td>\n",
       "      <td>R</td>\n",
       "      <td>GT3</td>\n",
       "      <td>T</td>\n",
       "      <td>2</td>\n",
       "      <td>2</td>\n",
       "      <td>services</td>\n",
       "      <td>other</td>\n",
       "      <td>...</td>\n",
       "      <td>5</td>\n",
       "      <td>5</td>\n",
       "      <td>5</td>\n",
       "      <td>4</td>\n",
       "      <td>8</td>\n",
       "      <td>11</td>\n",
       "      <td>10</td>\n",
       "      <td>10</td>\n",
       "      <td>10.333333</td>\n",
       "      <td>0</td>\n",
       "    </tr>\n",
       "    <tr>\n",
       "      <th>349</th>\n",
       "      <td>MS</td>\n",
       "      <td>M</td>\n",
       "      <td>18</td>\n",
       "      <td>R</td>\n",
       "      <td>GT3</td>\n",
       "      <td>T</td>\n",
       "      <td>3</td>\n",
       "      <td>2</td>\n",
       "      <td>other</td>\n",
       "      <td>other</td>\n",
       "      <td>...</td>\n",
       "      <td>5</td>\n",
       "      <td>5</td>\n",
       "      <td>5</td>\n",
       "      <td>5</td>\n",
       "      <td>10</td>\n",
       "      <td>11</td>\n",
       "      <td>13</td>\n",
       "      <td>13</td>\n",
       "      <td>12.333333</td>\n",
       "      <td>0</td>\n",
       "    </tr>\n",
       "  </tbody>\n",
       "</table>\n",
       "<p>9 rows × 35 columns</p>\n",
       "</div>"
      ],
      "text/plain": [
       "    school sex  age address famsize Pstatus  Medu  Fedu      Mjob      Fjob  \\\n",
       "29      GP   M   16       U     GT3       T     4     4   teacher   teacher   \n",
       "61      GP   F   16       U     GT3       T     1     1  services  services   \n",
       "66      GP   M   15       U     GT3       A     4     4     other  services   \n",
       "100     GP   M   16       U     GT3       T     4     4  services  services   \n",
       "223     GP   M   18       U     GT3       T     2     2     other     other   \n",
       "236     GP   M   17       U     LE3       T     2     2     other     other   \n",
       "247     GP   M   22       U     GT3       T     3     1  services  services   \n",
       "327     GP   M   17       R     GT3       T     2     2  services     other   \n",
       "349     MS   M   18       R     GT3       T     3     2     other     other   \n",
       "\n",
       "     ... goout Dalc  Walc  health  absences  G1  G2  G3   test_avg Pstatus1  \n",
       "29   ...     5    5     5       5        16  10  12  11  11.000000        0  \n",
       "61   ...     5    5     5       5         6  10   8  11   9.666667        0  \n",
       "66   ...     3    5     5       3         4  13  13  12  12.666667        1  \n",
       "100  ...     5    5     5       4        14   7   7   5   6.333333        0  \n",
       "223  ...     3    5     5       4         0  12  13  13  12.666667        0  \n",
       "236  ...     2    5     5       4         4  14  13  13  13.333333        0  \n",
       "247  ...     5    5     5       1        16   6   8   8   7.333333        0  \n",
       "327  ...     5    5     5       4         8  11  10  10  10.333333        0  \n",
       "349  ...     5    5     5       5        10  11  13  13  12.333333        0  \n",
       "\n",
       "[9 rows x 35 columns]"
      ]
     },
     "execution_count": 37,
     "metadata": {},
     "output_type": "execute_result"
    }
   ],
   "source": [
    "#There are 9 students who have Dalc = 5\n",
    "heavy_drinkers = df[df['Dalc'] == 5]\n",
    "heavy_drinkers"
   ]
  },
  {
   "cell_type": "code",
   "execution_count": 38,
   "id": "3a659ee6",
   "metadata": {
    "execution": {
     "iopub.execute_input": "2023-01-19T12:16:52.989277Z",
     "iopub.status.busy": "2023-01-19T12:16:52.988803Z",
     "iopub.status.idle": "2023-01-19T12:16:53.003243Z",
     "shell.execute_reply": "2023-01-19T12:16:53.002108Z"
    },
    "papermill": {
     "duration": 0.050913,
     "end_time": "2023-01-19T12:16:53.005452",
     "exception": false,
     "start_time": "2023-01-19T12:16:52.954539",
     "status": "completed"
    },
    "tags": []
   },
   "outputs": [
    {
     "data": {
      "text/html": [
       "<div>\n",
       "<style scoped>\n",
       "    .dataframe tbody tr th:only-of-type {\n",
       "        vertical-align: middle;\n",
       "    }\n",
       "\n",
       "    .dataframe tbody tr th {\n",
       "        vertical-align: top;\n",
       "    }\n",
       "\n",
       "    .dataframe thead th {\n",
       "        text-align: right;\n",
       "    }\n",
       "</style>\n",
       "<table border=\"1\" class=\"dataframe\">\n",
       "  <thead>\n",
       "    <tr style=\"text-align: right;\">\n",
       "      <th></th>\n",
       "      <th></th>\n",
       "      <th>test_avg</th>\n",
       "      <th>count</th>\n",
       "      <th>failures</th>\n",
       "    </tr>\n",
       "    <tr>\n",
       "      <th>Dalc</th>\n",
       "      <th>Walc</th>\n",
       "      <th></th>\n",
       "      <th></th>\n",
       "      <th></th>\n",
       "    </tr>\n",
       "  </thead>\n",
       "  <tbody>\n",
       "    <tr>\n",
       "      <th rowspan=\"2\" valign=\"top\">1</th>\n",
       "      <th>3</th>\n",
       "      <td>11.134921</td>\n",
       "      <td>42</td>\n",
       "      <td>0.166667</td>\n",
       "    </tr>\n",
       "    <tr>\n",
       "      <th>1</th>\n",
       "      <td>11.033333</td>\n",
       "      <td>150</td>\n",
       "      <td>0.253333</td>\n",
       "    </tr>\n",
       "    <tr>\n",
       "      <th>3</th>\n",
       "      <th>4</th>\n",
       "      <td>10.939394</td>\n",
       "      <td>11</td>\n",
       "      <td>0.272727</td>\n",
       "    </tr>\n",
       "    <tr>\n",
       "      <th>4</th>\n",
       "      <th>4</th>\n",
       "      <td>10.888889</td>\n",
       "      <td>3</td>\n",
       "      <td>0.333333</td>\n",
       "    </tr>\n",
       "    <tr>\n",
       "      <th>2</th>\n",
       "      <th>3</th>\n",
       "      <td>10.885057</td>\n",
       "      <td>29</td>\n",
       "      <td>0.344828</td>\n",
       "    </tr>\n",
       "  </tbody>\n",
       "</table>\n",
       "</div>"
      ],
      "text/plain": [
       "            test_avg  count  failures\n",
       "Dalc Walc                            \n",
       "1    3     11.134921     42  0.166667\n",
       "     1     11.033333    150  0.253333\n",
       "3    4     10.939394     11  0.272727\n",
       "4    4     10.888889      3  0.333333\n",
       "2    3     10.885057     29  0.344828"
      ]
     },
     "execution_count": 38,
     "metadata": {},
     "output_type": "execute_result"
    }
   ],
   "source": [
    "#here are the top 5 multilevel indexes for Dalc, Walc scores\n",
    "p[p['count'] > 1].sort_values(by = 'test_avg', ascending = False).head()\n",
    "#students with a Dalc of 1 and a Walc of 3 had the highest average"
   ]
  },
  {
   "cell_type": "code",
   "execution_count": 39,
   "id": "f7f8296c",
   "metadata": {
    "execution": {
     "iopub.execute_input": "2023-01-19T12:16:53.073890Z",
     "iopub.status.busy": "2023-01-19T12:16:53.072706Z",
     "iopub.status.idle": "2023-01-19T12:16:53.082709Z",
     "shell.execute_reply": "2023-01-19T12:16:53.081172Z"
    },
    "papermill": {
     "duration": 0.046044,
     "end_time": "2023-01-19T12:16:53.085183",
     "exception": false,
     "start_time": "2023-01-19T12:16:53.039139",
     "status": "completed"
    },
    "tags": []
   },
   "outputs": [
    {
     "name": "stdout",
     "output_type": "stream",
     "text": [
      "more than 20 absences 10.444444444444445\n",
      "NOT 10.676418439716311\n"
     ]
    }
   ],
   "source": [
    "#students with more than 20 absences \n",
    "more20 = df[df['absences']>20].test_avg.mean()\n",
    "less20 = df[df['absences']<20].test_avg.mean()\n",
    "print(\"more than 20 absences \" + str(more20))\n",
    "print(\"NOT \" + str(less20))"
   ]
  },
  {
   "cell_type": "code",
   "execution_count": 40,
   "id": "c856598d",
   "metadata": {
    "execution": {
     "iopub.execute_input": "2023-01-19T12:16:53.151346Z",
     "iopub.status.busy": "2023-01-19T12:16:53.150481Z",
     "iopub.status.idle": "2023-01-19T12:16:53.158704Z",
     "shell.execute_reply": "2023-01-19T12:16:53.157521Z"
    },
    "papermill": {
     "duration": 0.043847,
     "end_time": "2023-01-19T12:16:53.161232",
     "exception": false,
     "start_time": "2023-01-19T12:16:53.117385",
     "status": "completed"
    },
    "tags": []
   },
   "outputs": [
    {
     "data": {
      "text/plain": [
       "3.4913989909141734e-05"
      ]
     },
     "execution_count": 40,
     "metadata": {},
     "output_type": "execute_result"
    }
   ],
   "source": [
    "#this is the r^2 or correlation coefficient of absences on test_avgs \n",
    "corrmatrix['absences'].pow(2)['test_avg']\n",
    "#in other words, 0 \n",
    "#--> this implies that absences have no impact on test_averages for students!"
   ]
  },
  {
   "cell_type": "code",
   "execution_count": 41,
   "id": "e32fe9bf",
   "metadata": {
    "execution": {
     "iopub.execute_input": "2023-01-19T12:16:53.228335Z",
     "iopub.status.busy": "2023-01-19T12:16:53.227950Z",
     "iopub.status.idle": "2023-01-19T12:16:53.235681Z",
     "shell.execute_reply": "2023-01-19T12:16:53.234901Z"
    },
    "papermill": {
     "duration": 0.044095,
     "end_time": "2023-01-19T12:16:53.237970",
     "exception": false,
     "start_time": "2023-01-19T12:16:53.193875",
     "status": "completed"
    },
    "tags": []
   },
   "outputs": [
    {
     "name": "stdout",
     "output_type": "stream",
     "text": [
      "receiving tutoring 9.359477124183007\n",
      "NOT 10.875\n"
     ]
    }
   ],
   "source": [
    "#schoolsupport --> tutoring\n",
    "a = df[df['schoolsup'] == 'yes']['test_avg'].mean()\n",
    "b = df[df['schoolsup'] == 'no']['test_avg'].mean()\n",
    "print(\"receiving tutoring \" + str(a))\n",
    "print(\"NOT \" + str(b))"
   ]
  },
  {
   "cell_type": "markdown",
   "id": "a693c783",
   "metadata": {
    "papermill": {
     "duration": 0.031975,
     "end_time": "2023-01-19T12:16:53.302995",
     "exception": false,
     "start_time": "2023-01-19T12:16:53.271020",
     "status": "completed"
    },
    "tags": []
   },
   "source": [
    "Here we see a huge disparity which also gives us a normalizer for what a big disparity between two groups actually is. Students who receive tutoring have an average of 9.35/20, whereas those who don't have an average of 10.875/20. At least on first glance, this appears to be a statistically significant difference. We now know that a 1.5 point gap between two groups is relatively big."
   ]
  },
  {
   "cell_type": "code",
   "execution_count": 42,
   "id": "72427339",
   "metadata": {
    "execution": {
     "iopub.execute_input": "2023-01-19T12:16:53.369824Z",
     "iopub.status.busy": "2023-01-19T12:16:53.368659Z",
     "iopub.status.idle": "2023-01-19T12:16:53.377966Z",
     "shell.execute_reply": "2023-01-19T12:16:53.376536Z"
    },
    "papermill": {
     "duration": 0.045071,
     "end_time": "2023-01-19T12:16:53.380286",
     "exception": false,
     "start_time": "2023-01-19T12:16:53.335215",
     "status": "completed"
    },
    "tags": []
   },
   "outputs": [
    {
     "name": "stdout",
     "output_type": "stream",
     "text": [
      "receiving paid classes outside class for math 11.03867403314917\n",
      "NOT 10.37538940809969\n"
     ]
    }
   ],
   "source": [
    "#advanced paid classes in subject matter\n",
    "a = df[df['paid'] == 'yes']['test_avg'].mean()\n",
    "b = df[df['paid'] == 'no']['test_avg'].mean()\n",
    "print(\"receiving paid classes outside class for math \" + str(a))\n",
    "print(\"NOT \" + str(b))"
   ]
  },
  {
   "cell_type": "markdown",
   "id": "1e22c802",
   "metadata": {
    "papermill": {
     "duration": 0.03196,
     "end_time": "2023-01-19T12:16:53.444355",
     "exception": false,
     "start_time": "2023-01-19T12:16:53.412395",
     "status": "completed"
    },
    "tags": []
   },
   "source": [
    "# Part 2: Prediction and Application\n",
    "Now it's time to use python to build some ML models to see if we can make any sort of predictions using our data. One of the main predictions the source asks us to make is final exam scores, so let's see if we can build a model that predicts those with a high degree of accuracy. "
   ]
  },
  {
   "cell_type": "code",
   "execution_count": 43,
   "id": "64123108",
   "metadata": {
    "execution": {
     "iopub.execute_input": "2023-01-19T12:16:53.512972Z",
     "iopub.status.busy": "2023-01-19T12:16:53.511718Z",
     "iopub.status.idle": "2023-01-19T12:16:53.833190Z",
     "shell.execute_reply": "2023-01-19T12:16:53.831533Z"
    },
    "papermill": {
     "duration": 0.359431,
     "end_time": "2023-01-19T12:16:53.835964",
     "exception": false,
     "start_time": "2023-01-19T12:16:53.476533",
     "status": "completed"
    },
    "tags": []
   },
   "outputs": [
    {
     "name": "stdout",
     "output_type": "stream",
     "text": [
      "Coeff of determination: 0.0089\n"
     ]
    }
   ],
   "source": [
    "# Number 1: Linear Regression\n",
    "from sklearn.linear_model import LinearRegression\n",
    "model = LinearRegression()\n",
    "x = np.array(df['Dalc']).reshape((-1, 1))\n",
    "y = df['G1']\n",
    "model.fit(x,y)\n",
    "r2 = model.score(x,y)\n",
    "print(\"Coeff of determination: \" + str(round(r2,4)))"
   ]
  },
  {
   "cell_type": "markdown",
   "id": "7737b7b7",
   "metadata": {
    "papermill": {
     "duration": 0.033563,
     "end_time": "2023-01-19T12:16:53.902172",
     "exception": false,
     "start_time": "2023-01-19T12:16:53.868609",
     "status": "completed"
    },
    "tags": []
   },
   "source": [
    "As you can see from our rough linear regression, the Dalc variable has a very weak effect on students G1 Math exam scores. \n",
    "\n",
    "Let's try two of our strongly correlated variables as inputs for our Linear Regression Model. This time we will use two variables so we will be conducting a Multiple Linear Regression. \n",
    "\n",
    "R2 score or the coefficient of determination is defined as the portion of the variation in one variable that is explained by one (or more) other variables in the data. So a high r2 score means that a large portion of the data's variation is explained by that variable. In Machine Learning, a good r2 score means our model is well trained and can explain our dataset well. A perfect r2 score is r2 = 1 and a very bad r2 score is r2 = 0. "
   ]
  },
  {
   "cell_type": "code",
   "execution_count": 44,
   "id": "609ea5d5",
   "metadata": {
    "execution": {
     "iopub.execute_input": "2023-01-19T12:16:53.972309Z",
     "iopub.status.busy": "2023-01-19T12:16:53.971849Z",
     "iopub.status.idle": "2023-01-19T12:16:53.986300Z",
     "shell.execute_reply": "2023-01-19T12:16:53.985136Z"
    },
    "papermill": {
     "duration": 0.052566,
     "end_time": "2023-01-19T12:16:53.989014",
     "exception": false,
     "start_time": "2023-01-19T12:16:53.936448",
     "status": "completed"
    },
    "tags": []
   },
   "outputs": [
    {
     "name": "stdout",
     "output_type": "stream",
     "text": [
      "Coeff of determination: 0.0485\n"
     ]
    }
   ],
   "source": [
    "mmodel = LinearRegression()\n",
    "x2 = df[['Medu', 'Fedu']]\n",
    "x2 = np.array(x2).reshape(-1, 2)\n",
    "y = df['G1']\n",
    "mmodel.fit(x2, y)\n",
    "mr2 = mmodel.score(x2, y)\n",
    "print(\"Coeff of determination: \" + str(round(mr2,4)))"
   ]
  },
  {
   "cell_type": "code",
   "execution_count": 45,
   "id": "de33c8f5",
   "metadata": {
    "execution": {
     "iopub.execute_input": "2023-01-19T12:16:54.060354Z",
     "iopub.status.busy": "2023-01-19T12:16:54.059495Z",
     "iopub.status.idle": "2023-01-19T12:16:54.070151Z",
     "shell.execute_reply": "2023-01-19T12:16:54.068923Z"
    },
    "papermill": {
     "duration": 0.04895,
     "end_time": "2023-01-19T12:16:54.072620",
     "exception": false,
     "start_time": "2023-01-19T12:16:54.023670",
     "status": "completed"
    },
    "tags": []
   },
   "outputs": [
    {
     "name": "stdout",
     "output_type": "stream",
     "text": [
      "Coeff of determination: 0.7311\n"
     ]
    }
   ],
   "source": [
    "nmodel = LinearRegression()\n",
    "x3 = df[['Medu', 'Fedu', 'G2', 'studytime']]\n",
    "x3 = np.array(x3).reshape(-1, 4)\n",
    "y = df['G1']\n",
    "mmodel.fit(x3, y)\n",
    "mr2 = mmodel.score(x3, y)\n",
    "print(\"Coeff of determination: \" + str(round(mr2,4)))"
   ]
  },
  {
   "cell_type": "markdown",
   "id": "08e5bcd7",
   "metadata": {
    "papermill": {
     "duration": 0.032274,
     "end_time": "2023-01-19T12:16:54.137540",
     "exception": false,
     "start_time": "2023-01-19T12:16:54.105266",
     "status": "completed"
    },
    "tags": []
   },
   "source": [
    "**Linear Regression** is a form of regression where independent variables are assessed on their ability to predict a certain target variable. In our case, we have a multiple linear regression because we have multiple independent input variables, and we have a target vector of  df['G1'] \\\n",
    "which is the vector of student's G1 exam scores.  "
   ]
  },
  {
   "cell_type": "markdown",
   "id": "c65b75ae",
   "metadata": {
    "papermill": {
     "duration": 0.034317,
     "end_time": "2023-01-19T12:16:54.204900",
     "exception": false,
     "start_time": "2023-01-19T12:16:54.170583",
     "status": "completed"
    },
    "tags": []
   },
   "source": [
    "These are some examples of what Linear Regressions we can derive from this dataset. One using Mother's Education, Father's Education, Studytime, and their G2 scores turned out to be the most effective. Obviously a huge reason for htis model being effective is that we use their G2 scores which are highly correlated with the rest of their exam scores. "
   ]
  },
  {
   "cell_type": "code",
   "execution_count": 46,
   "id": "8ca43835",
   "metadata": {
    "execution": {
     "iopub.execute_input": "2023-01-19T12:16:54.275213Z",
     "iopub.status.busy": "2023-01-19T12:16:54.274442Z",
     "iopub.status.idle": "2023-01-19T12:16:54.285155Z",
     "shell.execute_reply": "2023-01-19T12:16:54.283701Z"
    },
    "papermill": {
     "duration": 0.048658,
     "end_time": "2023-01-19T12:16:54.287509",
     "exception": false,
     "start_time": "2023-01-19T12:16:54.238851",
     "status": "completed"
    },
    "tags": []
   },
   "outputs": [
    {
     "name": "stdout",
     "output_type": "stream",
     "text": [
      "Coeff of determination: 0.7339\n"
     ]
    }
   ],
   "source": [
    "lmodel = LinearRegression()\n",
    "x4 = df[['G2', 'G3', 'Fedu', 'Medu']]\n",
    "x4 = np.array(x4).reshape(-1, 4)\n",
    "y = df['G1']\n",
    "mmodel.fit(x4, y)\n",
    "mr2 = mmodel.score(x4, y)\n",
    "print(\"Coeff of determination: \" + str(round(mr2,4)))"
   ]
  },
  {
   "cell_type": "code",
   "execution_count": 47,
   "id": "62b4acb6",
   "metadata": {
    "execution": {
     "iopub.execute_input": "2023-01-19T12:16:54.355879Z",
     "iopub.status.busy": "2023-01-19T12:16:54.354972Z",
     "iopub.status.idle": "2023-01-19T12:16:55.727167Z",
     "shell.execute_reply": "2023-01-19T12:16:55.726328Z"
    },
    "papermill": {
     "duration": 1.409002,
     "end_time": "2023-01-19T12:16:55.729690",
     "exception": false,
     "start_time": "2023-01-19T12:16:54.320688",
     "status": "completed"
    },
    "tags": []
   },
   "outputs": [
    {
     "data": {
      "text/plain": [
       "0.34430379746835443"
      ]
     },
     "execution_count": 47,
     "metadata": {},
     "output_type": "execute_result"
    }
   ],
   "source": [
    "# Number 2: Logistic Regression \n",
    "\n",
    "#using same training input: G2, G3, Fedu, Medu\n",
    "from sklearn.linear_model import LogisticRegression\n",
    "log = LogisticRegression(solver='lbfgs', max_iter=10000).fit(x4, y)\n",
    "log.score(x4, y)"
   ]
  },
  {
   "cell_type": "code",
   "execution_count": 48,
   "id": "15149abb",
   "metadata": {
    "execution": {
     "iopub.execute_input": "2023-01-19T12:16:55.799682Z",
     "iopub.status.busy": "2023-01-19T12:16:55.799060Z",
     "iopub.status.idle": "2023-01-19T12:16:55.848999Z",
     "shell.execute_reply": "2023-01-19T12:16:55.847809Z"
    },
    "papermill": {
     "duration": 0.088635,
     "end_time": "2023-01-19T12:16:55.851647",
     "exception": false,
     "start_time": "2023-01-19T12:16:55.763012",
     "status": "completed"
    },
    "tags": []
   },
   "outputs": [
    {
     "data": {
      "text/plain": [
       "0.13164556962025317"
      ]
     },
     "execution_count": 48,
     "metadata": {},
     "output_type": "execute_result"
    }
   ],
   "source": [
    "#using solely Dalc for Logistic Regression model\n",
    "x = df['Dalc']\n",
    "x = np.array(x).reshape(-1,1)\n",
    "y = df['G1']\n",
    "log2 = LogisticRegression().fit(x, y)\n",
    "log2.score(x,y)"
   ]
  },
  {
   "cell_type": "markdown",
   "id": "9c57a4a9",
   "metadata": {
    "papermill": {
     "duration": 0.032779,
     "end_time": "2023-01-19T12:16:55.919560",
     "exception": false,
     "start_time": "2023-01-19T12:16:55.886781",
     "status": "completed"
    },
    "tags": []
   },
   "source": [
    "Logistic Regression models seem to be rather ineffective at predicting these test scores.\n",
    "\n",
    "We can determine what model is good based on what score we initially get. HOWEVER, this score is not a metric of the actual accuracy of this model, but rather what this model can describe about the current dataset we have. If we were to take this model and apply it to the portuguese scores we would get slightly different results. "
   ]
  },
  {
   "cell_type": "code",
   "execution_count": 49,
   "id": "13687bd5",
   "metadata": {
    "execution": {
     "iopub.execute_input": "2023-01-19T12:16:55.988961Z",
     "iopub.status.busy": "2023-01-19T12:16:55.987749Z",
     "iopub.status.idle": "2023-01-19T12:16:56.018387Z",
     "shell.execute_reply": "2023-01-19T12:16:56.017263Z"
    },
    "papermill": {
     "duration": 0.068516,
     "end_time": "2023-01-19T12:16:56.021284",
     "exception": false,
     "start_time": "2023-01-19T12:16:55.952768",
     "status": "completed"
    },
    "tags": []
   },
   "outputs": [
    {
     "data": {
      "text/plain": [
       "0.8220122468860729"
      ]
     },
     "execution_count": 49,
     "metadata": {},
     "output_type": "execute_result"
    }
   ],
   "source": [
    "# Number 3: Support Vector Machines\n",
    "from sklearn import svm\n",
    "inp = df[['G2', 'G3', 'Fedu', 'Medu']]\n",
    "out = df['G1']\n",
    "svmt = svm.SVR().fit(inp,out)\n",
    "svmt.score(inp, out)"
   ]
  },
  {
   "cell_type": "code",
   "execution_count": 50,
   "id": "20aa3b85",
   "metadata": {
    "execution": {
     "iopub.execute_input": "2023-01-19T12:16:56.093317Z",
     "iopub.status.busy": "2023-01-19T12:16:56.092234Z",
     "iopub.status.idle": "2023-01-19T12:16:56.157062Z",
     "shell.execute_reply": "2023-01-19T12:16:56.155269Z"
    },
    "papermill": {
     "duration": 0.104212,
     "end_time": "2023-01-19T12:16:56.160543",
     "exception": false,
     "start_time": "2023-01-19T12:16:56.056331",
     "status": "completed"
    },
    "tags": []
   },
   "outputs": [
    {
     "name": "stdout",
     "output_type": "stream",
     "text": [
      "Support vector regression with G2 and G3 on G1: 0.82049\n",
      "Support vector regression with JUST G2 on G1: 0.81697\n",
      "Support vector regression with JUST G3 on G1: 0.78972\n"
     ]
    }
   ],
   "source": [
    "p = df[['G2', 'G3']]\n",
    "svm2 = svm.SVR().fit(p, out)\n",
    "score1 = svm2.score(p, out)\n",
    "\n",
    "q = df['G2']\n",
    "w = np.array(q).reshape(-1,1)\n",
    "svm3 = svm.SVR().fit(w, out)\n",
    "score2 = svm3.score(w, out)\n",
    "\n",
    "l = df['G3']\n",
    "ne = np.array(l).reshape(-1,1)\n",
    "svm4 = svm.SVR().fit(ne, out)\n",
    "score3 = svm4.score(ne, out)\n",
    "print(\"Support vector regression with G2 and G3 on G1: \" + str(round(score1, 5)))\n",
    "print(\"Support vector regression with JUST G2 on G1: \" + str(round(score2, 5)))\n",
    "print(\"Support vector regression with JUST G3 on G1: \" + str(round(score3, 5)))"
   ]
  },
  {
   "cell_type": "code",
   "execution_count": 51,
   "id": "ccf13063",
   "metadata": {
    "execution": {
     "iopub.execute_input": "2023-01-19T12:16:56.230179Z",
     "iopub.status.busy": "2023-01-19T12:16:56.229777Z",
     "iopub.status.idle": "2023-01-19T12:16:56.238629Z",
     "shell.execute_reply": "2023-01-19T12:16:56.237503Z"
    },
    "papermill": {
     "duration": 0.046252,
     "end_time": "2023-01-19T12:16:56.241079",
     "exception": false,
     "start_time": "2023-01-19T12:16:56.194827",
     "status": "completed"
    },
    "tags": []
   },
   "outputs": [
    {
     "data": {
      "text/plain": [
       "array([16.32717536,  7.10050721,  9.9401869 ])"
      ]
     },
     "execution_count": 51,
     "metadata": {},
     "output_type": "execute_result"
    }
   ],
   "source": [
    "# For example\n",
    "# look at what the model predicts someone who received a 20/20 on G2 and G3 Exams will get:\n",
    "\n",
    "predictThis = [[20, 20] ,[0,0], [10,10]]\n",
    "ans = svm2.predict(predictThis)\n",
    "ans[0:5]"
   ]
  },
  {
   "cell_type": "markdown",
   "id": "5726ed5a",
   "metadata": {
    "papermill": {
     "duration": 0.032857,
     "end_time": "2023-01-19T12:16:56.307708",
     "exception": false,
     "start_time": "2023-01-19T12:16:56.274851",
     "status": "completed"
    },
    "tags": []
   },
   "source": [
    "--^ Above is what our model predicts a student will receive based on their G2 and G3 scores. "
   ]
  },
  {
   "cell_type": "code",
   "execution_count": 52,
   "id": "e6d5ba7f",
   "metadata": {
    "execution": {
     "iopub.execute_input": "2023-01-19T12:16:56.376262Z",
     "iopub.status.busy": "2023-01-19T12:16:56.375813Z",
     "iopub.status.idle": "2023-01-19T12:16:56.394169Z",
     "shell.execute_reply": "2023-01-19T12:16:56.392909Z"
    },
    "papermill": {
     "duration": 0.056108,
     "end_time": "2023-01-19T12:16:56.396817",
     "exception": false,
     "start_time": "2023-01-19T12:16:56.340709",
     "status": "completed"
    },
    "tags": []
   },
   "outputs": [
    {
     "data": {
      "text/plain": [
       "0.3139240506329114"
      ]
     },
     "execution_count": 52,
     "metadata": {},
     "output_type": "execute_result"
    }
   ],
   "source": [
    "# Number 4: Naive Bayes\n",
    "\n",
    "#Gaussian Naive Bayes\n",
    "from sklearn.naive_bayes import GaussianNB\n",
    "gnb = GaussianNB()\n",
    "x4 = df[['G2', 'G3', 'Fedu', 'Medu']]\n",
    "gnbx = gnb.fit(x4, y)\n",
    "gnbx.score(x4,y) "
   ]
  },
  {
   "cell_type": "code",
   "execution_count": 53,
   "id": "e191b50a",
   "metadata": {
    "execution": {
     "iopub.execute_input": "2023-01-19T12:16:56.465801Z",
     "iopub.status.busy": "2023-01-19T12:16:56.465362Z",
     "iopub.status.idle": "2023-01-19T12:16:56.479568Z",
     "shell.execute_reply": "2023-01-19T12:16:56.478481Z"
    },
    "papermill": {
     "duration": 0.051574,
     "end_time": "2023-01-19T12:16:56.482164",
     "exception": false,
     "start_time": "2023-01-19T12:16:56.430590",
     "status": "completed"
    },
    "tags": []
   },
   "outputs": [
    {
     "data": {
      "text/plain": [
       "0.17215189873417722"
      ]
     },
     "execution_count": 53,
     "metadata": {},
     "output_type": "execute_result"
    }
   ],
   "source": [
    "# Multinomial Naive Bayes\n",
    "from sklearn.naive_bayes import MultinomialNB\n",
    "nbb = MultinomialNB()\n",
    "x4 = df[['G2', 'G3', 'Fedu', 'Medu']]\n",
    "nbbx = nbb.fit(x4, y)\n",
    "nbbx.score(x4,y) "
   ]
  },
  {
   "cell_type": "markdown",
   "id": "a0321988",
   "metadata": {
    "papermill": {
     "duration": 0.038046,
     "end_time": "2023-01-19T12:16:56.554730",
     "exception": false,
     "start_time": "2023-01-19T12:16:56.516684",
     "status": "completed"
    },
    "tags": []
   },
   "source": [
    "Naive bayes is typically a classification algorithm, so as you can see it performs poorly for our regressive tasks..."
   ]
  },
  {
   "cell_type": "code",
   "execution_count": 54,
   "id": "ca8ac5b6",
   "metadata": {
    "execution": {
     "iopub.execute_input": "2023-01-19T12:16:56.639444Z",
     "iopub.status.busy": "2023-01-19T12:16:56.639039Z",
     "iopub.status.idle": "2023-01-19T12:16:57.033050Z",
     "shell.execute_reply": "2023-01-19T12:16:57.031921Z"
    },
    "papermill": {
     "duration": 0.439799,
     "end_time": "2023-01-19T12:16:57.036211",
     "exception": false,
     "start_time": "2023-01-19T12:16:56.596412",
     "status": "completed"
    },
    "tags": []
   },
   "outputs": [
    {
     "name": "stdout",
     "output_type": "stream",
     "text": [
      "Our logistic regression model had a surprisingly good score of 0.7012658227848101\n"
     ]
    }
   ],
   "source": [
    "#taking some time to build a model that uses Dalc as a target variable without Walc\n",
    "df2 = df[['Dalc', 'Walc', 'Pstatus1', 'Pstatus', 'age', 'absences', 'goout', 'freetime', 'traveltime']]\n",
    "xvals= df2[['absences', 'goout', 'freetime', 'traveltime', 'age',]]\n",
    "yvals = df2['Dalc']\n",
    "\n",
    "svrmod = svm.SVR().fit(xvals,yvals)\n",
    "svrmod.score(xvals, yvals)\n",
    "\n",
    "lmmod = LinearRegression().fit(xvals,yvals)\n",
    "lmmod.score(xvals, yvals)\n",
    "\n",
    "logreg = LogisticRegression(solver='lbfgs', max_iter=10000)\n",
    "logreg = logreg.fit(xvals, yvals)\n",
    "scorelog = logreg.score(xvals, yvals)\n",
    "print(\"Our logistic regression model had a surprisingly good score of \" + str(scorelog))"
   ]
  },
  {
   "cell_type": "markdown",
   "id": "1fca9798",
   "metadata": {
    "papermill": {
     "duration": 0.03337,
     "end_time": "2023-01-19T12:16:57.103609",
     "exception": false,
     "start_time": "2023-01-19T12:16:57.070239",
     "status": "completed"
    },
    "tags": []
   },
   "source": [
    "This was just demonstrating how a bunch of models could be incorporated using our data to predict test scores. For example, if we use our Support Vector Regression using just G3 data on G1, we have a model that has a score of 81.7%. This is obviously quite a good score, but this model was assessed without using any form of splitting the data. In other words, we tested our model with the same data that we trained our model. \n",
    "\n",
    "Additionally, in the real world it is unlikely we will be given a student's other test scores of the same subject in order to predict what he will get on a similar exam. Now, we will design a simple model that can use other inputs in order to predict a student's test score."
   ]
  },
  {
   "cell_type": "markdown",
   "id": "7e30e48e",
   "metadata": {
    "papermill": {
     "duration": 0.034281,
     "end_time": "2023-01-19T12:16:57.172806",
     "exception": false,
     "start_time": "2023-01-19T12:16:57.138525",
     "status": "completed"
    },
    "tags": []
   },
   "source": [
    "# Our task is to create a model that uses a student's first two scores (G1 and G2), along with other metrics to predict their G3 scores."
   ]
  },
  {
   "cell_type": "code",
   "execution_count": 55,
   "id": "53b3e9df",
   "metadata": {
    "execution": {
     "iopub.execute_input": "2023-01-19T12:16:57.242956Z",
     "iopub.status.busy": "2023-01-19T12:16:57.242518Z",
     "iopub.status.idle": "2023-01-19T12:16:57.256716Z",
     "shell.execute_reply": "2023-01-19T12:16:57.255811Z"
    },
    "papermill": {
     "duration": 0.052477,
     "end_time": "2023-01-19T12:16:57.259357",
     "exception": false,
     "start_time": "2023-01-19T12:16:57.206880",
     "status": "completed"
    },
    "tags": []
   },
   "outputs": [
    {
     "data": {
      "text/plain": [
       "38"
      ]
     },
     "execution_count": 55,
     "metadata": {},
     "output_type": "execute_result"
    }
   ],
   "source": [
    "df3 = pd.read_csv('/kaggle/input/student-alcohol-consumption/student-mat.csv')\n",
    "#students w zeros on G3 exam\n",
    "len(df3[df3['G3'] == 0])"
   ]
  },
  {
   "cell_type": "markdown",
   "id": "0cf7fa05",
   "metadata": {
    "papermill": {
     "duration": 0.033143,
     "end_time": "2023-01-19T12:16:57.327886",
     "exception": false,
     "start_time": "2023-01-19T12:16:57.294743",
     "status": "completed"
    },
    "tags": []
   },
   "source": [
    "^-- How many students got a 0 on G3 exam, most likely because of No show"
   ]
  },
  {
   "cell_type": "code",
   "execution_count": 56,
   "id": "5642294c",
   "metadata": {
    "execution": {
     "iopub.execute_input": "2023-01-19T12:16:57.398233Z",
     "iopub.status.busy": "2023-01-19T12:16:57.397316Z",
     "iopub.status.idle": "2023-01-19T12:16:57.425261Z",
     "shell.execute_reply": "2023-01-19T12:16:57.424365Z"
    },
    "papermill": {
     "duration": 0.065734,
     "end_time": "2023-01-19T12:16:57.427664",
     "exception": false,
     "start_time": "2023-01-19T12:16:57.361930",
     "status": "completed"
    },
    "tags": []
   },
   "outputs": [
    {
     "data": {
      "text/plain": [
       "0.9288949140132693"
      ]
     },
     "execution_count": 56,
     "metadata": {},
     "output_type": "execute_result"
    }
   ],
   "source": [
    "#model creation --> SVR was our best in preliminary\n",
    "model_main = svm.SVR()\n",
    "from sklearn.model_selection import train_test_split\n",
    "df = pd.read_csv('/kaggle/input/student-alcohol-consumption/student-mat.csv')\n",
    "\n",
    "#REMOVING ALL STUDENTS WHO GOT A O on FINAL EXAM\n",
    "df = df[df['G3'] != 0]\n",
    "X = df[['G1', 'G2', 'Fedu', 'Medu', 'studytime']]\n",
    "y = df['G3']\n",
    "\n",
    "#SUPPORT VECTOR REGRESSION\n",
    "X_train, X_test, y_train, y_test = train_test_split(\n",
    "    X, y, test_size=0.33, random_state=42)\n",
    "model_main = model_main.fit(X_train, y_train)\n",
    "y_pred = model_main.predict(X_test).reshape(-1,1)\n",
    "model_main.score(X_test, y_test)"
   ]
  },
  {
   "cell_type": "markdown",
   "id": "9ddcf463",
   "metadata": {
    "papermill": {
     "duration": 0.033281,
     "end_time": "2023-01-19T12:16:57.494826",
     "exception": false,
     "start_time": "2023-01-19T12:16:57.461545",
     "status": "completed"
    },
    "tags": []
   },
   "source": [
    "**WHAT IS SUPPORT VECTOR REGRESSION?**\n",
    "Support vector regression is a supervised learning algorithm that uses support vectors in order to predict values for us. At the end of the day SVR is a form of finding the best fit line for a dataset, but in the case of our data, our best fit line becomes a hyperplane. This plane has dimensions equal to the number of features we give the training algorithm. From there the regressor calculates which model has the least marginal sum based on the support vectors. The support vectors are the vectors that have the smallest margins, and each margin is the separation between the hyperplane and that point!\n"
   ]
  },
  {
   "cell_type": "code",
   "execution_count": 57,
   "id": "f6780347",
   "metadata": {
    "execution": {
     "iopub.execute_input": "2023-01-19T12:16:57.566116Z",
     "iopub.status.busy": "2023-01-19T12:16:57.565475Z",
     "iopub.status.idle": "2023-01-19T12:16:57.992918Z",
     "shell.execute_reply": "2023-01-19T12:16:57.991288Z"
    },
    "papermill": {
     "duration": 0.466793,
     "end_time": "2023-01-19T12:16:57.995338",
     "exception": false,
     "start_time": "2023-01-19T12:16:57.528545",
     "status": "completed"
    },
    "tags": []
   },
   "outputs": [
    {
     "name": "stdout",
     "output_type": "stream",
     "text": [
      "The student's predicted score was 12.280496168332371\n",
      "but his actual score was 12\n"
     ]
    }
   ],
   "source": [
    "#some predictions\n",
    "#IGNORE\n",
    "import warnings\n",
    "warnings.filterwarnings(\"ignore\", category=DeprecationWarning)\n",
    "def warn(*args, **kwargs):\n",
    "    pass\n",
    "\n",
    "import warnings\n",
    "warnings.warn = warn\n",
    "#IGNORE --> THIS CELL WAS GIVING USERWARNING \n",
    "\n",
    "from sklearn import *\n",
    "X = np.array(X_test.iloc[0]).reshape(1,-1)\n",
    "pred = model_main.predict(X)\n",
    "actual = y_test.iloc[0]\n",
    "print(\"The student's predicted score was \" + str(pred[0]))\n",
    "print(\"but his actual score was \" + str(actual))"
   ]
  },
  {
   "cell_type": "code",
   "execution_count": 58,
   "id": "a849a81d",
   "metadata": {
    "execution": {
     "iopub.execute_input": "2023-01-19T12:16:58.066065Z",
     "iopub.status.busy": "2023-01-19T12:16:58.065614Z",
     "iopub.status.idle": "2023-01-19T12:16:58.073129Z",
     "shell.execute_reply": "2023-01-19T12:16:58.072229Z"
    },
    "papermill": {
     "duration": 0.045932,
     "end_time": "2023-01-19T12:16:58.075951",
     "exception": false,
     "start_time": "2023-01-19T12:16:58.030019",
     "status": "completed"
    },
    "tags": []
   },
   "outputs": [
    {
     "name": "stdout",
     "output_type": "stream",
     "text": [
      "The student's predicted score was 6.6997192100989205\n",
      "but his actual score was 6\n"
     ]
    }
   ],
   "source": [
    "X = np.array(X_test.iloc[10]).reshape(1,-1)\n",
    "pred = model_main.predict(X)\n",
    "actual = y_test.iloc[10]\n",
    "print(\"The student's predicted score was \" + str(pred[0]))\n",
    "print(\"but his actual score was \" + str(actual))"
   ]
  },
  {
   "cell_type": "code",
   "execution_count": 59,
   "id": "22ee85a8",
   "metadata": {
    "execution": {
     "iopub.execute_input": "2023-01-19T12:16:58.148045Z",
     "iopub.status.busy": "2023-01-19T12:16:58.147346Z",
     "iopub.status.idle": "2023-01-19T12:16:58.156389Z",
     "shell.execute_reply": "2023-01-19T12:16:58.154655Z"
    },
    "papermill": {
     "duration": 0.047212,
     "end_time": "2023-01-19T12:16:58.159367",
     "exception": false,
     "start_time": "2023-01-19T12:16:58.112155",
     "status": "completed"
    },
    "tags": []
   },
   "outputs": [
    {
     "name": "stdout",
     "output_type": "stream",
     "text": [
      "The student's predicted score was 16\n",
      "but his actual score was 17\n"
     ]
    }
   ],
   "source": [
    "# completely random predictions by using np.random-->randint which randomly selects an int from the range we gave it\n",
    "# in our case we gave it the range of our X test vector. We then select the same int to use as the index to select from \n",
    "# our y_test vector. We then compare the y_test vector, which is the students actual G3 score, and the prediction the \n",
    "# model gets using our test data (as if a random person were to input their data)\n",
    "\n",
    "N = np.random.randint(0, len(X_test))\n",
    "X = np.array(X_test.iloc[N]).reshape(1,-1)\n",
    "pred = model_main.predict(X)\n",
    "actual = y_test.iloc[N]\n",
    "print(\"The student's predicted score was \" + str(round(pred[0])))\n",
    "print(\"but his actual score was \" + str(round(actual)))"
   ]
  },
  {
   "cell_type": "code",
   "execution_count": 60,
   "id": "4425cae6",
   "metadata": {
    "execution": {
     "iopub.execute_input": "2023-01-19T12:16:58.230351Z",
     "iopub.status.busy": "2023-01-19T12:16:58.229922Z",
     "iopub.status.idle": "2023-01-19T12:16:58.238397Z",
     "shell.execute_reply": "2023-01-19T12:16:58.237247Z"
    },
    "papermill": {
     "duration": 0.046792,
     "end_time": "2023-01-19T12:16:58.240937",
     "exception": false,
     "start_time": "2023-01-19T12:16:58.194145",
     "status": "completed"
    },
    "tags": []
   },
   "outputs": [
    {
     "name": "stdout",
     "output_type": "stream",
     "text": [
      "The student's predicted score was 6\n",
      "but his actual score was 6\n"
     ]
    }
   ],
   "source": [
    "#completely random predictions\n",
    "N = np.random.randint(0, len(X_test))\n",
    "X = np.array(X_test.iloc[N]).reshape(1,-1)\n",
    "pred = model_main.predict(X)\n",
    "actual = y_test.iloc[N]\n",
    "print(\"The student's predicted score was \" + str(round(pred[0])))\n",
    "print(\"but his actual score was \" + str(round(actual)))"
   ]
  },
  {
   "cell_type": "markdown",
   "id": "de9ae088",
   "metadata": {
    "papermill": {
     "duration": 0.03386,
     "end_time": "2023-01-19T12:16:58.309314",
     "exception": false,
     "start_time": "2023-01-19T12:16:58.275454",
     "status": "completed"
    },
    "tags": []
   },
   "source": [
    "# ^-- This is actually a freakishly good model and if you run this notebook a few times you will see how accurate the model is. This is also the first time I include rounding in this notebook :). "
   ]
  },
  {
   "cell_type": "code",
   "execution_count": 61,
   "id": "a4c76732",
   "metadata": {
    "execution": {
     "iopub.execute_input": "2023-01-19T12:16:58.382228Z",
     "iopub.status.busy": "2023-01-19T12:16:58.380114Z",
     "iopub.status.idle": "2023-01-19T12:16:58.676765Z",
     "shell.execute_reply": "2023-01-19T12:16:58.675161Z"
    },
    "papermill": {
     "duration": 0.336597,
     "end_time": "2023-01-19T12:16:58.679997",
     "exception": false,
     "start_time": "2023-01-19T12:16:58.343400",
     "status": "completed"
    },
    "tags": []
   },
   "outputs": [
    {
     "data": {
      "text/plain": [
       "Text(0.5, 1.0, 'Red line is perfect predictions')"
      ]
     },
     "execution_count": 61,
     "metadata": {},
     "output_type": "execute_result"
    },
    {
     "data": {
      "image/png": "[encoded data removed]",
      "text/plain": [
       "<Figure size 1224x595.44 with 1 Axes>"
      ]
     },
     "metadata": {},
     "output_type": "display_data"
    }
   ],
   "source": [
    "plt.scatter(y_pred, y_test)\n",
    "plt.plot(y_test, y_test, color = 'red')\n",
    "plt.title(\"Red line is perfect predictions\")"
   ]
  },
  {
   "cell_type": "code",
   "execution_count": 62,
   "id": "43f9e370",
   "metadata": {
    "execution": {
     "iopub.execute_input": "2023-01-19T12:16:58.752740Z",
     "iopub.status.busy": "2023-01-19T12:16:58.752309Z",
     "iopub.status.idle": "2023-01-19T12:16:59.020705Z",
     "shell.execute_reply": "2023-01-19T12:16:59.019258Z"
    },
    "papermill": {
     "duration": 0.307818,
     "end_time": "2023-01-19T12:16:59.023835",
     "exception": false,
     "start_time": "2023-01-19T12:16:58.716017",
     "status": "completed"
    },
    "tags": []
   },
   "outputs": [
    {
     "data": {
      "text/plain": [
       "[<matplotlib.lines.Line2D at 0x7fe52298a650>]"
      ]
     },
     "execution_count": 62,
     "metadata": {},
     "output_type": "execute_result"
    },
    {
     "data": {
      "image/png": "[encoded data removed]",
      "text/plain": [
       "<Figure size 1224x595.44 with 1 Axes>"
      ]
     },
     "metadata": {},
     "output_type": "display_data"
    }
   ],
   "source": [
    "# difference between predicted scores using our model and actual scores.\n",
    "\n",
    "# nothing > 2.25 and all around [0-1.3]\n",
    "y_test = np.array(y_test).reshape(-1,1)\n",
    "y_test.shape\n",
    "plt.scatter(range(0,118), y_pred - y_test)\n",
    "plt.title(\"Prediction Accuracy Graph\")\n",
    "plt.plot(range(0,118), np.zeros(118), color = 'red')"
   ]
  },
  {
   "cell_type": "markdown",
   "id": "880decc1",
   "metadata": {
    "papermill": {
     "duration": 0.041214,
     "end_time": "2023-01-19T12:16:59.102409",
     "exception": false,
     "start_time": "2023-01-19T12:16:59.061195",
     "status": "completed"
    },
    "tags": []
   },
   "source": [
    "As you can see, this is quite exciting. Our model has a very high accuracy especially when considering what we are predicting. This graph shows the disparity between the G3 score each student actually got, and the score we predicted they would get when we used their data NOT including their G3 score. **The red line is the ideal position of each point.**\n",
    "\n",
    "Most of our data points are near 0 and none are really above -2. We did, however, use G1 and G2 scores which is a little unfair because we would probably not have access to this kind of information in thie real world. However, a model that predicts a students test scores with >90% accuracy is quite impressive. This just shows us what machine learning and data science can do."
   ]
  },
  {
   "cell_type": "code",
   "execution_count": 63,
   "id": "6dfa5ea4",
   "metadata": {
    "execution": {
     "iopub.execute_input": "2023-01-19T12:16:59.176340Z",
     "iopub.status.busy": "2023-01-19T12:16:59.175907Z",
     "iopub.status.idle": "2023-01-19T12:16:59.183575Z",
     "shell.execute_reply": "2023-01-19T12:16:59.181699Z"
    },
    "papermill": {
     "duration": 0.047779,
     "end_time": "2023-01-19T12:16:59.186072",
     "exception": false,
     "start_time": "2023-01-19T12:16:59.138293",
     "status": "completed"
    },
    "tags": []
   },
   "outputs": [
    {
     "name": "stdout",
     "output_type": "stream",
     "text": [
      "The accuracy of our model is 91.0%\n"
     ]
    }
   ],
   "source": [
    "#some evaluation metrics for our model\n",
    "from sklearn.metrics import r2_score\n",
    "score = r2_score(y_pred, y_test)\n",
    "print(\"The accuracy of our model is {}%\".format(round(score, 2) *100))"
   ]
  },
  {
   "cell_type": "code",
   "execution_count": 64,
   "id": "35601297",
   "metadata": {
    "execution": {
     "iopub.execute_input": "2023-01-19T12:16:59.259070Z",
     "iopub.status.busy": "2023-01-19T12:16:59.258397Z",
     "iopub.status.idle": "2023-01-19T12:16:59.265161Z",
     "shell.execute_reply": "2023-01-19T12:16:59.263651Z"
    },
    "papermill": {
     "duration": 0.045975,
     "end_time": "2023-01-19T12:16:59.267401",
     "exception": false,
     "start_time": "2023-01-19T12:16:59.221426",
     "status": "completed"
    },
    "tags": []
   },
   "outputs": [
    {
     "name": "stdout",
     "output_type": "stream",
     "text": [
      "The Mean Absolute Error of our Model is 0.65\n"
     ]
    }
   ],
   "source": [
    "from sklearn.metrics import mean_absolute_error\n",
    "score = mean_absolute_error(y_pred, y_test)\n",
    "print(\"The Mean Absolute Error of our Model is {}\".format(round(score, 2)))"
   ]
  },
  {
   "cell_type": "code",
   "execution_count": 65,
   "id": "06f40c01",
   "metadata": {
    "execution": {
     "iopub.execute_input": "2023-01-19T12:16:59.341040Z",
     "iopub.status.busy": "2023-01-19T12:16:59.340619Z",
     "iopub.status.idle": "2023-01-19T12:16:59.347404Z",
     "shell.execute_reply": "2023-01-19T12:16:59.346142Z"
    },
    "papermill": {
     "duration": 0.047992,
     "end_time": "2023-01-19T12:16:59.350786",
     "exception": false,
     "start_time": "2023-01-19T12:16:59.302794",
     "status": "completed"
    },
    "tags": []
   },
   "outputs": [
    {
     "name": "stdout",
     "output_type": "stream",
     "text": [
      "The Mean Squared Error of our Model is 0.86\n"
     ]
    }
   ],
   "source": [
    "from sklearn.metrics import mean_squared_error\n",
    "import numpy as np\n",
    "score = np.sqrt(mean_squared_error(y_pred, y_test))\n",
    "print(\"The Mean Squared Error of our Model is {}\".format(round(score, 2)))"
   ]
  },
  {
   "cell_type": "markdown",
   "id": "3fef42f5",
   "metadata": {
    "papermill": {
     "duration": 0.034967,
     "end_time": "2023-01-19T12:16:59.422039",
     "exception": false,
     "start_time": "2023-01-19T12:16:59.387072",
     "status": "completed"
    },
    "tags": []
   },
   "source": [
    "Thank you for reading my notebook! Hopefully it was usefull in some sort of way and any feedback is much appreciated! "
   ]
  }
 ],
 "metadata": {
  "kernelspec": {
   "display_name": "Python 3",
   "language": "python",
   "name": "python3"
  },
  "language_info": {
   "codemirror_mode": {
    "name": "ipython",
    "version": 3
   },
   "file_extension": ".py",
   "mimetype": "text/x-python",
   "name": "python",
   "nbconvert_exporter": "python",
   "pygments_lexer": "ipython3",
   "version": "3.7.12"
  },
  "papermill": {
   "default_parameters": {},
   "duration": 26.054316,
   "end_time": "2023-01-19T12:17:00.381037",
   "environment_variables": {},
   "exception": null,
   "input_path": "__notebook__.ipynb",
   "output_path": "__notebook__.ipynb",
   "parameters": {},
   "start_time": "2023-01-19T12:16:34.326721",
   "version": "2.3.4"
  }
 },
 "nbformat": 4,
 "nbformat_minor": 5
}
